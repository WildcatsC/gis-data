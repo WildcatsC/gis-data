{
 "cells": [
  {
   "cell_type": "code",
   "execution_count": 1,
   "id": "600e553a",
   "metadata": {},
   "outputs": [],
   "source": [
    "import numpy as np\n",
    "import pandas as pd\n",
    "import timeit"
   ]
  },
  {
   "cell_type": "code",
   "execution_count": 2,
   "id": "952d4570",
   "metadata": {},
   "outputs": [],
   "source": [
    "lat = pd.read_csv('lat.csv')\n",
    "lon = pd.read_csv('lon.csv')"
   ]
  },
  {
   "cell_type": "code",
   "execution_count": 3,
   "id": "114c614d",
   "metadata": {},
   "outputs": [
    {
     "data": {
      "text/html": [
       "<div>\n",
       "<style scoped>\n",
       "    .dataframe tbody tr th:only-of-type {\n",
       "        vertical-align: middle;\n",
       "    }\n",
       "\n",
       "    .dataframe tbody tr th {\n",
       "        vertical-align: top;\n",
       "    }\n",
       "\n",
       "    .dataframe thead th {\n",
       "        text-align: right;\n",
       "    }\n",
       "</style>\n",
       "<table border=\"1\" class=\"dataframe\">\n",
       "  <thead>\n",
       "    <tr style=\"text-align: right;\">\n",
       "      <th></th>\n",
       "      <th>lat</th>\n",
       "    </tr>\n",
       "  </thead>\n",
       "  <tbody>\n",
       "    <tr>\n",
       "      <th>0</th>\n",
       "      <td>32.552536</td>\n",
       "    </tr>\n",
       "    <tr>\n",
       "      <th>1</th>\n",
       "      <td>32.552626</td>\n",
       "    </tr>\n",
       "    <tr>\n",
       "      <th>2</th>\n",
       "      <td>32.552717</td>\n",
       "    </tr>\n",
       "    <tr>\n",
       "      <th>3</th>\n",
       "      <td>32.552807</td>\n",
       "    </tr>\n",
       "    <tr>\n",
       "      <th>4</th>\n",
       "      <td>32.552897</td>\n",
       "    </tr>\n",
       "    <tr>\n",
       "      <th>...</th>\n",
       "      <td>...</td>\n",
       "    </tr>\n",
       "    <tr>\n",
       "      <th>106596</th>\n",
       "      <td>42.155745</td>\n",
       "    </tr>\n",
       "    <tr>\n",
       "      <th>106597</th>\n",
       "      <td>42.155835</td>\n",
       "    </tr>\n",
       "    <tr>\n",
       "      <th>106598</th>\n",
       "      <td>42.155925</td>\n",
       "    </tr>\n",
       "    <tr>\n",
       "      <th>106599</th>\n",
       "      <td>42.156015</td>\n",
       "    </tr>\n",
       "    <tr>\n",
       "      <th>106600</th>\n",
       "      <td>42.156105</td>\n",
       "    </tr>\n",
       "  </tbody>\n",
       "</table>\n",
       "<p>106601 rows × 1 columns</p>\n",
       "</div>"
      ],
      "text/plain": [
       "              lat\n",
       "0       32.552536\n",
       "1       32.552626\n",
       "2       32.552717\n",
       "3       32.552807\n",
       "4       32.552897\n",
       "...           ...\n",
       "106596  42.155745\n",
       "106597  42.155835\n",
       "106598  42.155925\n",
       "106599  42.156015\n",
       "106600  42.156105\n",
       "\n",
       "[106601 rows x 1 columns]"
      ]
     },
     "execution_count": 3,
     "metadata": {},
     "output_type": "execute_result"
    }
   ],
   "source": [
    "lon"
   ]
  },
  {
   "cell_type": "code",
   "execution_count": 4,
   "id": "42e417cd",
   "metadata": {},
   "outputs": [
    {
     "data": {
      "text/plain": [
       "98161000"
      ]
     },
     "execution_count": 4,
     "metadata": {},
     "output_type": "execute_result"
    }
   ],
   "source": [
    "lat_dict = {}\n",
    "for i in range(0, 108):\n",
    "    lat_dict[\"lat_{0}\".format(i)] = lat[(lat.index < 1000*i) & (lat.index >= 1000*(i-1))]\n",
    "lat_dict[\"lat_54\"]\n",
    "len(lon)*1000"
   ]
  },
  {
   "cell_type": "code",
   "execution_count": 6,
   "id": "caa8cc8e",
   "metadata": {},
   "outputs": [],
   "source": [
    "def vertical(set_number):\n",
    "    start = timeit.default_timer() \n",
    "    \n",
    "    current_lat = 'lat_{0}'.format(set_number)\n",
    "    helper_dict = {}\n",
    "    for i in range(len(lat_dict[current_lat])):\n",
    "#         temp = pd.DataFrame(columns=['lat', 'lon', 'blank'])\n",
    "        temp = pd.DataFrame(columns=['lat', 'lon'])\n",
    "        temp = temp.merge(lon, how='outer')\n",
    "        temp = temp.fillna(value=lat_dict[current_lat].iloc[i,])\n",
    "        helper_dict['df_{0}'.format(i)]=temp\n",
    "        if i % 500 == 0:\n",
    "            print(\"done with vertical df_\" + str(i) + \" to dict\")\n",
    "    df = pd.concat(helper_dict.values(), ignore_index=True)\n",
    "    print(\"Done concating, indexing...\")\n",
    "    df['index'] = df.index + (set_number-1)*98161000        # len(lon)*1000\n",
    "    print('Done indexing with set number: ' + str(set_number) + \", writing to csv...\")\n",
    "#     df.to_csv('set_{0}.csv'.format(set_number), index=False, chunksize=100000)\n",
    "    \n",
    "    stop = timeit.default_timer()\n",
    "    print('Done! Time: ' + str(stop - start) + '\\n') \n",
    "    return df"
   ]
  },
  {
   "cell_type": "code",
   "execution_count": 34,
   "id": "1677b3f3",
   "metadata": {},
   "outputs": [
    {
     "name": "stdout",
     "output_type": "stream",
     "text": [
      "done with vertical df_0 to dict\n",
      "done with vertical df_500 to dict\n",
      "Done concating, indexing...\n",
      "Done indexing with set number: 101, writing to csv...\n",
      "Done! Time: 287.00452208700153\n",
      "\n",
      "done with vertical df_0 to dict\n",
      "done with vertical df_500 to dict\n",
      "Done concating, indexing...\n",
      "Done indexing with set number: 102, writing to csv...\n",
      "Done! Time: 274.37379802200303\n",
      "\n",
      "done with vertical df_0 to dict\n",
      "done with vertical df_500 to dict\n",
      "Done concating, indexing...\n",
      "Done indexing with set number: 103, writing to csv...\n",
      "Done! Time: 273.2811496650029\n",
      "\n",
      "done with vertical df_0 to dict\n",
      "done with vertical df_500 to dict\n",
      "Done concating, indexing...\n",
      "Done indexing with set number: 104, writing to csv...\n",
      "Done! Time: 267.5138421800002\n",
      "\n",
      "done with vertical df_0 to dict\n",
      "done with vertical df_500 to dict\n",
      "Done concating, indexing...\n",
      "Done indexing with set number: 105, writing to csv...\n",
      "Done! Time: 270.3647551489994\n",
      "\n",
      "done with vertical df_0 to dict\n",
      "done with vertical df_500 to dict\n",
      "Done concating, indexing...\n",
      "Done indexing with set number: 106, writing to csv...\n",
      "Done! Time: 273.2241067509967\n",
      "\n",
      "done with vertical df_0 to dict\n",
      "done with vertical df_500 to dict\n",
      "Done concating, indexing...\n",
      "Done indexing with set number: 107, writing to csv...\n",
      "Done! Time: 162.83765243700327\n",
      "\n"
     ]
    }
   ],
   "source": [
    "for i in range(101, 108):\n",
    "    vertical(i)"
   ]
  },
  {
   "cell_type": "code",
   "execution_count": 40,
   "id": "3f1786b3",
   "metadata": {},
   "outputs": [
    {
     "name": "stdout",
     "output_type": "stream",
     "text": [
      "done with vertical df_0 to dict\n",
      "done with vertical df_500 to dict\n",
      "Done concating, indexing...\n",
      "Done indexing with set number: 107, writing to csv...\n",
      "Done! Time: 21.586649114004103\n",
      "\n"
     ]
    }
   ],
   "source": [
    "df_1 = vertical(107)"
   ]
  },
  {
   "cell_type": "code",
   "execution_count": 233,
   "id": "7428c528",
   "metadata": {},
   "outputs": [],
   "source": [
    "set_number = 1\n",
    "df_1.to_csv('set_{0}.csv'.format(set_number), index=False, chunksize=100000)"
   ]
  },
  {
   "cell_type": "code",
   "execution_count": 7,
   "id": "0cc4875a",
   "metadata": {},
   "outputs": [
    {
     "name": "stdout",
     "output_type": "stream",
     "text": [
      "done with vertical df_0 to dict\n",
      "done with vertical df_500 to dict\n",
      "Done concating, indexing...\n",
      "Done indexing with set number: 107, writing to csv...\n",
      "Done! Time: 19.613838621000003\n",
      "\n"
     ]
    }
   ],
   "source": [
    "df_107 = vertical(107)"
   ]
  },
  {
   "cell_type": "code",
   "execution_count": 8,
   "id": "7c1e204b",
   "metadata": {},
   "outputs": [
    {
     "name": "stdout",
     "output_type": "stream",
     "text": [
      "done with vertical df_0 to dict\n",
      "done with vertical df_500 to dict\n",
      "Done concating, indexing...\n",
      "Done indexing with set number: 1, writing to csv...\n",
      "Done! Time: 31.20540467\n",
      "\n"
     ]
    }
   ],
   "source": [
    "df_1 = vertical(1)"
   ]
  },
  {
   "cell_type": "code",
   "execution_count": 60,
   "id": "8559244c",
   "metadata": {},
   "outputs": [
    {
     "data": {
      "text/html": [
       "<div>\n",
       "<style scoped>\n",
       "    .dataframe tbody tr th:only-of-type {\n",
       "        vertical-align: middle;\n",
       "    }\n",
       "\n",
       "    .dataframe tbody tr th {\n",
       "        vertical-align: top;\n",
       "    }\n",
       "\n",
       "    .dataframe thead th {\n",
       "        text-align: right;\n",
       "    }\n",
       "</style>\n",
       "<table border=\"1\" class=\"dataframe\">\n",
       "  <thead>\n",
       "    <tr style=\"text-align: right;\">\n",
       "      <th></th>\n",
       "      <th>lat</th>\n",
       "      <th>lon</th>\n",
       "      <th>index</th>\n",
       "    </tr>\n",
       "  </thead>\n",
       "  <tbody>\n",
       "    <tr>\n",
       "      <th>0</th>\n",
       "      <td>32.552536</td>\n",
       "      <td>-124.907264</td>\n",
       "      <td>0</td>\n",
       "    </tr>\n",
       "    <tr>\n",
       "      <th>98161</th>\n",
       "      <td>32.552626</td>\n",
       "      <td>-124.907264</td>\n",
       "      <td>98161</td>\n",
       "    </tr>\n",
       "    <tr>\n",
       "      <th>196322</th>\n",
       "      <td>32.552717</td>\n",
       "      <td>-124.907264</td>\n",
       "      <td>196322</td>\n",
       "    </tr>\n",
       "    <tr>\n",
       "      <th>294483</th>\n",
       "      <td>32.552807</td>\n",
       "      <td>-124.907264</td>\n",
       "      <td>294483</td>\n",
       "    </tr>\n",
       "    <tr>\n",
       "      <th>392644</th>\n",
       "      <td>32.552897</td>\n",
       "      <td>-124.907264</td>\n",
       "      <td>392644</td>\n",
       "    </tr>\n",
       "    <tr>\n",
       "      <th>...</th>\n",
       "      <td>...</td>\n",
       "      <td>...</td>\n",
       "      <td>...</td>\n",
       "    </tr>\n",
       "    <tr>\n",
       "      <th>97670195</th>\n",
       "      <td>32.642212</td>\n",
       "      <td>-124.907264</td>\n",
       "      <td>97670195</td>\n",
       "    </tr>\n",
       "    <tr>\n",
       "      <th>97768356</th>\n",
       "      <td>32.642302</td>\n",
       "      <td>-124.907264</td>\n",
       "      <td>97768356</td>\n",
       "    </tr>\n",
       "    <tr>\n",
       "      <th>97866517</th>\n",
       "      <td>32.642392</td>\n",
       "      <td>-124.907264</td>\n",
       "      <td>97866517</td>\n",
       "    </tr>\n",
       "    <tr>\n",
       "      <th>97964678</th>\n",
       "      <td>32.642482</td>\n",
       "      <td>-124.907264</td>\n",
       "      <td>97964678</td>\n",
       "    </tr>\n",
       "    <tr>\n",
       "      <th>98062839</th>\n",
       "      <td>32.642573</td>\n",
       "      <td>-124.907264</td>\n",
       "      <td>98062839</td>\n",
       "    </tr>\n",
       "  </tbody>\n",
       "</table>\n",
       "<p>1000 rows × 3 columns</p>\n",
       "</div>"
      ],
      "text/plain": [
       "                lat         lon     index\n",
       "0         32.552536 -124.907264         0\n",
       "98161     32.552626 -124.907264     98161\n",
       "196322    32.552717 -124.907264    196322\n",
       "294483    32.552807 -124.907264    294483\n",
       "392644    32.552897 -124.907264    392644\n",
       "...             ...         ...       ...\n",
       "97670195  32.642212 -124.907264  97670195\n",
       "97768356  32.642302 -124.907264  97768356\n",
       "97866517  32.642392 -124.907264  97866517\n",
       "97964678  32.642482 -124.907264  97964678\n",
       "98062839  32.642573 -124.907264  98062839\n",
       "\n",
       "[1000 rows x 3 columns]"
      ]
     },
     "execution_count": 60,
     "metadata": {},
     "output_type": "execute_result"
    }
   ],
   "source": [
    "df_1.loc[df_1['lon']==-124.907264]"
   ]
  },
  {
   "cell_type": "code",
   "execution_count": 21,
   "id": "c75bb58b",
   "metadata": {},
   "outputs": [
    {
     "data": {
      "text/html": [
       "<div>\n",
       "<style scoped>\n",
       "    .dataframe tbody tr th:only-of-type {\n",
       "        vertical-align: middle;\n",
       "    }\n",
       "\n",
       "    .dataframe tbody tr th {\n",
       "        vertical-align: top;\n",
       "    }\n",
       "\n",
       "    .dataframe thead th {\n",
       "        text-align: right;\n",
       "    }\n",
       "</style>\n",
       "<table border=\"1\" class=\"dataframe\">\n",
       "  <thead>\n",
       "    <tr style=\"text-align: right;\">\n",
       "      <th></th>\n",
       "      <th>lat</th>\n",
       "      <th>lon</th>\n",
       "      <th>index</th>\n",
       "    </tr>\n",
       "  </thead>\n",
       "  <tbody>\n",
       "    <tr>\n",
       "      <th>0</th>\n",
       "      <td>42.102072</td>\n",
       "      <td>-124.907264</td>\n",
       "      <td>10405066000</td>\n",
       "    </tr>\n",
       "    <tr>\n",
       "      <th>1</th>\n",
       "      <td>42.102072</td>\n",
       "      <td>-124.907151</td>\n",
       "      <td>10405066001</td>\n",
       "    </tr>\n",
       "    <tr>\n",
       "      <th>2</th>\n",
       "      <td>42.102072</td>\n",
       "      <td>-124.907039</td>\n",
       "      <td>10405066002</td>\n",
       "    </tr>\n",
       "    <tr>\n",
       "      <th>3</th>\n",
       "      <td>42.102072</td>\n",
       "      <td>-124.906926</td>\n",
       "      <td>10405066003</td>\n",
       "    </tr>\n",
       "    <tr>\n",
       "      <th>4</th>\n",
       "      <td>42.102072</td>\n",
       "      <td>-124.906813</td>\n",
       "      <td>10405066004</td>\n",
       "    </tr>\n",
       "    <tr>\n",
       "      <th>...</th>\n",
       "      <td>...</td>\n",
       "      <td>...</td>\n",
       "      <td>...</td>\n",
       "    </tr>\n",
       "    <tr>\n",
       "      <th>58994756</th>\n",
       "      <td>42.156105</td>\n",
       "      <td>-113.849819</td>\n",
       "      <td>10464060756</td>\n",
       "    </tr>\n",
       "    <tr>\n",
       "      <th>58994757</th>\n",
       "      <td>42.156105</td>\n",
       "      <td>-113.849706</td>\n",
       "      <td>10464060757</td>\n",
       "    </tr>\n",
       "    <tr>\n",
       "      <th>58994758</th>\n",
       "      <td>42.156105</td>\n",
       "      <td>-113.849593</td>\n",
       "      <td>10464060758</td>\n",
       "    </tr>\n",
       "    <tr>\n",
       "      <th>58994759</th>\n",
       "      <td>42.156105</td>\n",
       "      <td>-113.849481</td>\n",
       "      <td>10464060759</td>\n",
       "    </tr>\n",
       "    <tr>\n",
       "      <th>58994760</th>\n",
       "      <td>42.156105</td>\n",
       "      <td>-113.849368</td>\n",
       "      <td>10464060760</td>\n",
       "    </tr>\n",
       "  </tbody>\n",
       "</table>\n",
       "<p>58994761 rows × 3 columns</p>\n",
       "</div>"
      ],
      "text/plain": [
       "                lat         lon        index\n",
       "0         42.102072 -124.907264  10405066000\n",
       "1         42.102072 -124.907151  10405066001\n",
       "2         42.102072 -124.907039  10405066002\n",
       "3         42.102072 -124.906926  10405066003\n",
       "4         42.102072 -124.906813  10405066004\n",
       "...             ...         ...          ...\n",
       "58994756  42.156105 -113.849819  10464060756\n",
       "58994757  42.156105 -113.849706  10464060757\n",
       "58994758  42.156105 -113.849593  10464060758\n",
       "58994759  42.156105 -113.849481  10464060759\n",
       "58994760  42.156105 -113.849368  10464060760\n",
       "\n",
       "[58994761 rows x 3 columns]"
      ]
     },
     "execution_count": 21,
     "metadata": {},
     "output_type": "execute_result"
    }
   ],
   "source": [
    "df_107"
   ]
  },
  {
   "cell_type": "code",
   "execution_count": 27,
   "id": "b97a23d7",
   "metadata": {},
   "outputs": [
    {
     "data": {
      "text/plain": [
       "10464060761"
      ]
     },
     "execution_count": 27,
     "metadata": {},
     "output_type": "execute_result"
    }
   ],
   "source": [
    "98161000*106+58994761"
   ]
  },
  {
   "cell_type": "code",
   "execution_count": null,
   "id": "7bad8f3c",
   "metadata": {},
   "outputs": [],
   "source": []
  }
 ],
 "metadata": {
  "kernelspec": {
   "display_name": "Python 3 (ipykernel)",
   "language": "python",
   "name": "python3"
  },
  "language_info": {
   "codemirror_mode": {
    "name": "ipython",
    "version": 3
   },
   "file_extension": ".py",
   "mimetype": "text/x-python",
   "name": "python",
   "nbconvert_exporter": "python",
   "pygments_lexer": "ipython3",
   "version": "3.9.7"
  }
 },
 "nbformat": 4,
 "nbformat_minor": 5
}
