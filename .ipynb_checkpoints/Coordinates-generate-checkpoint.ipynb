{
 "cells": [
  {
   "cell_type": "code",
   "execution_count": 1,
   "id": "8af49492",
   "metadata": {},
   "outputs": [],
   "source": [
    "import folium\n",
    "import geopy.distance\n",
    "import math"
   ]
  },
  {
   "cell_type": "code",
   "execution_count": 2,
   "id": "f12a824a",
   "metadata": {},
   "outputs": [],
   "source": [
    "north_west = [42, -125]\n",
    "north_east = [42, -114]\n",
    "south_west = [32, -125]\n",
    "south_east = [32, -144]\n",
    "\n",
    "rect_bound = [north_west, north_east, south_east, south_west]"
   ]
  },
  {
   "cell_type": "code",
   "execution_count": 13,
   "id": "b8716b3b",
   "metadata": {},
   "outputs": [
    {
     "name": "stdout",
     "output_type": "stream",
     "text": [
      "[[42.157006, -124.907264], [37.166111, -113.84824142]]\n"
     ]
    },
    {
     "data": {
      "text/html": [
       "<div style=\"width:100%;\"><div style=\"position:relative;width:100%;height:0;padding-bottom:60%;\"><span style=\"color:#565656\">Make this Notebook Trusted to load map: File -> Trust Notebook</span><iframe srcdoc=\"&lt;!DOCTYPE html&gt;\n",
       "&lt;head&gt;    \n",
       "    &lt;meta http-equiv=&quot;content-type&quot; content=&quot;text/html; charset=UTF-8&quot; /&gt;\n",
       "    \n",
       "        &lt;script&gt;\n",
       "            L_NO_TOUCH = false;\n",
       "            L_DISABLE_3D = false;\n",
       "        &lt;/script&gt;\n",
       "    \n",
       "    &lt;style&gt;html, body {width: 100%;height: 100%;margin: 0;padding: 0;}&lt;/style&gt;\n",
       "    &lt;style&gt;#map {position:absolute;top:0;bottom:0;right:0;left:0;}&lt;/style&gt;\n",
       "    &lt;script src=&quot;https://cdn.jsdelivr.net/npm/leaflet@1.6.0/dist/leaflet.js&quot;&gt;&lt;/script&gt;\n",
       "    &lt;script src=&quot;https://code.jquery.com/jquery-1.12.4.min.js&quot;&gt;&lt;/script&gt;\n",
       "    &lt;script src=&quot;https://maxcdn.bootstrapcdn.com/bootstrap/3.2.0/js/bootstrap.min.js&quot;&gt;&lt;/script&gt;\n",
       "    &lt;script src=&quot;https://cdnjs.cloudflare.com/ajax/libs/Leaflet.awesome-markers/2.0.2/leaflet.awesome-markers.js&quot;&gt;&lt;/script&gt;\n",
       "    &lt;link rel=&quot;stylesheet&quot; href=&quot;https://cdn.jsdelivr.net/npm/leaflet@1.6.0/dist/leaflet.css&quot;/&gt;\n",
       "    &lt;link rel=&quot;stylesheet&quot; href=&quot;https://maxcdn.bootstrapcdn.com/bootstrap/3.2.0/css/bootstrap.min.css&quot;/&gt;\n",
       "    &lt;link rel=&quot;stylesheet&quot; href=&quot;https://maxcdn.bootstrapcdn.com/bootstrap/3.2.0/css/bootstrap-theme.min.css&quot;/&gt;\n",
       "    &lt;link rel=&quot;stylesheet&quot; href=&quot;https://maxcdn.bootstrapcdn.com/font-awesome/4.6.3/css/font-awesome.min.css&quot;/&gt;\n",
       "    &lt;link rel=&quot;stylesheet&quot; href=&quot;https://cdnjs.cloudflare.com/ajax/libs/Leaflet.awesome-markers/2.0.2/leaflet.awesome-markers.css&quot;/&gt;\n",
       "    &lt;link rel=&quot;stylesheet&quot; href=&quot;https://cdn.jsdelivr.net/gh/python-visualization/folium/folium/templates/leaflet.awesome.rotate.min.css&quot;/&gt;\n",
       "    \n",
       "            &lt;meta name=&quot;viewport&quot; content=&quot;width=device-width,\n",
       "                initial-scale=1.0, maximum-scale=1.0, user-scalable=no&quot; /&gt;\n",
       "            &lt;style&gt;\n",
       "                #map_e9b8f6414c0191027ba805d7f6ebd8eb {\n",
       "                    position: relative;\n",
       "                    width: 750.0px;\n",
       "                    height: 500.0px;\n",
       "                    left: 0.0%;\n",
       "                    top: 0.0%;\n",
       "                }\n",
       "            &lt;/style&gt;\n",
       "        \n",
       "&lt;/head&gt;\n",
       "&lt;body&gt;    \n",
       "    \n",
       "            &lt;div class=&quot;folium-map&quot; id=&quot;map_e9b8f6414c0191027ba805d7f6ebd8eb&quot; &gt;&lt;/div&gt;\n",
       "        \n",
       "&lt;/body&gt;\n",
       "&lt;script&gt;    \n",
       "    \n",
       "            var map_e9b8f6414c0191027ba805d7f6ebd8eb = L.map(\n",
       "                &quot;map_e9b8f6414c0191027ba805d7f6ebd8eb&quot;,\n",
       "                {\n",
       "                    center: [32.0, -125.0],\n",
       "                    crs: L.CRS.EPSG3857,\n",
       "                    zoom: 10,\n",
       "                    zoomControl: true,\n",
       "                    preferCanvas: false,\n",
       "                }\n",
       "            );\n",
       "\n",
       "            \n",
       "\n",
       "        \n",
       "    \n",
       "            var tile_layer_7a67799bc4a085e073d98b8fe0e77db0 = L.tileLayer(\n",
       "                &quot;https://{s}.tile.openstreetmap.org/{z}/{x}/{y}.png&quot;,\n",
       "                {&quot;attribution&quot;: &quot;Data by \\u0026copy; \\u003ca href=\\&quot;http://openstreetmap.org\\&quot;\\u003eOpenStreetMap\\u003c/a\\u003e, under \\u003ca href=\\&quot;http://www.openstreetmap.org/copyright\\&quot;\\u003eODbL\\u003c/a\\u003e.&quot;, &quot;detectRetina&quot;: false, &quot;maxNativeZoom&quot;: 18, &quot;maxZoom&quot;: 18, &quot;minZoom&quot;: 0, &quot;noWrap&quot;: false, &quot;opacity&quot;: 1, &quot;subdomains&quot;: &quot;abc&quot;, &quot;tms&quot;: false}\n",
       "            ).addTo(map_e9b8f6414c0191027ba805d7f6ebd8eb);\n",
       "        \n",
       "    \n",
       "            map_e9b8f6414c0191027ba805d7f6ebd8eb.fitBounds(\n",
       "                [[42.157006, -124.907264], [37.166111, -113.84824142]],\n",
       "                {}\n",
       "            );\n",
       "        \n",
       "    \n",
       "            var marker_2fbb0b610be44eb108bfbbfba03f27b5 = L.marker(\n",
       "                [42.157006, -124.907264],\n",
       "                {&quot;iconColor&quot;: &quot;white&quot;}\n",
       "            ).addTo(map_e9b8f6414c0191027ba805d7f6ebd8eb);\n",
       "        \n",
       "    \n",
       "            var marker_a30d78495b7ace3cd598c1ca03e8dd1a = L.marker(\n",
       "                [37.166111, -113.84824142],\n",
       "                {&quot;iconColor&quot;: &quot;blue&quot;}\n",
       "            ).addTo(map_e9b8f6414c0191027ba805d7f6ebd8eb);\n",
       "        \n",
       "&lt;/script&gt;\" style=\"position:absolute;width:100%;height:100%;left:0;top:0;border:none !important;\" allowfullscreen webkitallowfullscreen mozallowfullscreen></iframe></div></div>"
      ],
      "text/plain": [
       "<folium.folium.Map at 0x7fd4cb912700>"
      ]
     },
     "metadata": {},
     "output_type": "display_data"
    }
   ],
   "source": [
    "# north_west_coordinates = [42.009518,-124.409591] # old\n",
    "north_west_coordinates = [42.157006, -124.907264] # new\n",
    "\n",
    "# mid_eastern_coordinates = [37.166111, -113.131211] # old\n",
    "mid_eastern_coordinates = [37.166111 ,-113.84824142] # new\n",
    "calif_bounding = [north_west_coordinates, mid_eastern_coordinates]\n",
    "print(calif_bounding)\n",
    "# Center of California\n",
    "x1 = (calif_bounding[0][0] + calif_bounding[1][0])/2\n",
    "y1 = (calif_bounding[0][1] + calif_bounding[1][1])/2\n",
    "# m = folium.Map(location=[x1, y1], width=750, height=500)\n",
    "# m = folium.Map(location=north_west, width=750, height=500)\n",
    "for i in rect_bound:\n",
    "    folium.Marker(location=i, icon_color='white')\n",
    "#     m.fit_bounds(calif_bounding)\n",
    "# folium.Marker(location=calif_bounding[0], icon_color='white').add_to(m)\n",
    "# folium.Marker(location=calif_bounding[1], icon_color='blue').add_to(m)\n",
    "display(m)"
   ]
  },
  {
   "cell_type": "code",
   "execution_count": null,
   "id": "cb775347",
   "metadata": {},
   "outputs": [],
   "source": []
  }
 ],
 "metadata": {
  "kernelspec": {
   "display_name": "Python 3 (ipykernel)",
   "language": "python",
   "name": "python3"
  },
  "language_info": {
   "codemirror_mode": {
    "name": "ipython",
    "version": 3
   },
   "file_extension": ".py",
   "mimetype": "text/x-python",
   "name": "python",
   "nbconvert_exporter": "python",
   "pygments_lexer": "ipython3",
   "version": "3.9.7"
  }
 },
 "nbformat": 4,
 "nbformat_minor": 5
}
