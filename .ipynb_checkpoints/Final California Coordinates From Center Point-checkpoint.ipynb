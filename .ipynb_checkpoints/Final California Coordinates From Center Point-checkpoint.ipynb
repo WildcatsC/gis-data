{
 "cells": [
  {
   "cell_type": "code",
   "execution_count": 1,
   "id": "639a5429",
   "metadata": {
    "ExecuteTime": {
     "end_time": "2022-07-11T19:12:26.183156Z",
     "start_time": "2022-07-11T19:12:26.181383Z"
    }
   },
   "outputs": [],
   "source": [
    "# mean latitude and max latitude max lat min lat max lon min ad max divide by 2 median latitude horizontal\n",
    "import folium\n",
    "\n",
    "import geopy.distance\n",
    "import math"
   ]
  },
  {
   "cell_type": "code",
   "execution_count": 2,
   "id": "265e64f5",
   "metadata": {
    "ExecuteTime": {
     "end_time": "2022-07-11T19:12:26.402706Z",
     "start_time": "2022-07-11T19:12:26.399453Z"
    }
   },
   "outputs": [
    {
     "data": {
      "text/plain": [
       "-119.37775271"
      ]
     },
     "execution_count": 2,
     "metadata": {},
     "output_type": "execute_result"
    }
   ],
   "source": [
    "(-124.907264  -113.84824142 )/ 2"
   ]
  },
  {
   "cell_type": "code",
   "execution_count": 13,
   "id": "6e239889",
   "metadata": {
    "ExecuteTime": {
     "end_time": "2022-07-11T21:48:16.152994Z",
     "start_time": "2022-07-11T21:48:16.120796Z"
    }
   },
   "outputs": [
    {
     "name": "stdout",
     "output_type": "stream",
     "text": [
      "[[32, -125], [37.166111, -113.131211]]\n"
     ]
    },
    {
     "data": {
      "text/html": [
       "<div style=\"width:100%;\"><div style=\"position:relative;width:100%;height:0;padding-bottom:60%;\"><span style=\"color:#565656\">Make this Notebook Trusted to load map: File -> Trust Notebook</span><iframe srcdoc=\"&lt;!DOCTYPE html&gt;\n",
       "&lt;head&gt;    \n",
       "    &lt;meta http-equiv=&quot;content-type&quot; content=&quot;text/html; charset=UTF-8&quot; /&gt;\n",
       "    \n",
       "        &lt;script&gt;\n",
       "            L_NO_TOUCH = false;\n",
       "            L_DISABLE_3D = false;\n",
       "        &lt;/script&gt;\n",
       "    \n",
       "    &lt;style&gt;html, body {width: 100%;height: 100%;margin: 0;padding: 0;}&lt;/style&gt;\n",
       "    &lt;style&gt;#map {position:absolute;top:0;bottom:0;right:0;left:0;}&lt;/style&gt;\n",
       "    &lt;script src=&quot;https://cdn.jsdelivr.net/npm/leaflet@1.6.0/dist/leaflet.js&quot;&gt;&lt;/script&gt;\n",
       "    &lt;script src=&quot;https://code.jquery.com/jquery-1.12.4.min.js&quot;&gt;&lt;/script&gt;\n",
       "    &lt;script src=&quot;https://maxcdn.bootstrapcdn.com/bootstrap/3.2.0/js/bootstrap.min.js&quot;&gt;&lt;/script&gt;\n",
       "    &lt;script src=&quot;https://cdnjs.cloudflare.com/ajax/libs/Leaflet.awesome-markers/2.0.2/leaflet.awesome-markers.js&quot;&gt;&lt;/script&gt;\n",
       "    &lt;link rel=&quot;stylesheet&quot; href=&quot;https://cdn.jsdelivr.net/npm/leaflet@1.6.0/dist/leaflet.css&quot;/&gt;\n",
       "    &lt;link rel=&quot;stylesheet&quot; href=&quot;https://maxcdn.bootstrapcdn.com/bootstrap/3.2.0/css/bootstrap.min.css&quot;/&gt;\n",
       "    &lt;link rel=&quot;stylesheet&quot; href=&quot;https://maxcdn.bootstrapcdn.com/bootstrap/3.2.0/css/bootstrap-theme.min.css&quot;/&gt;\n",
       "    &lt;link rel=&quot;stylesheet&quot; href=&quot;https://maxcdn.bootstrapcdn.com/font-awesome/4.6.3/css/font-awesome.min.css&quot;/&gt;\n",
       "    &lt;link rel=&quot;stylesheet&quot; href=&quot;https://cdnjs.cloudflare.com/ajax/libs/Leaflet.awesome-markers/2.0.2/leaflet.awesome-markers.css&quot;/&gt;\n",
       "    &lt;link rel=&quot;stylesheet&quot; href=&quot;https://cdn.jsdelivr.net/gh/python-visualization/folium/folium/templates/leaflet.awesome.rotate.min.css&quot;/&gt;\n",
       "    \n",
       "            &lt;meta name=&quot;viewport&quot; content=&quot;width=device-width,\n",
       "                initial-scale=1.0, maximum-scale=1.0, user-scalable=no&quot; /&gt;\n",
       "            &lt;style&gt;\n",
       "                #map_87eefaf159ece6434335f6022682b821 {\n",
       "                    position: relative;\n",
       "                    width: 750.0px;\n",
       "                    height: 500.0px;\n",
       "                    left: 0.0%;\n",
       "                    top: 0.0%;\n",
       "                }\n",
       "            &lt;/style&gt;\n",
       "        \n",
       "&lt;/head&gt;\n",
       "&lt;body&gt;    \n",
       "    \n",
       "            &lt;div class=&quot;folium-map&quot; id=&quot;map_87eefaf159ece6434335f6022682b821&quot; &gt;&lt;/div&gt;\n",
       "        \n",
       "&lt;/body&gt;\n",
       "&lt;script&gt;    \n",
       "    \n",
       "            var map_87eefaf159ece6434335f6022682b821 = L.map(\n",
       "                &quot;map_87eefaf159ece6434335f6022682b821&quot;,\n",
       "                {\n",
       "                    center: [34.5830555, -119.0656055],\n",
       "                    crs: L.CRS.EPSG3857,\n",
       "                    zoom: 10,\n",
       "                    zoomControl: true,\n",
       "                    preferCanvas: false,\n",
       "                }\n",
       "            );\n",
       "\n",
       "            \n",
       "\n",
       "        \n",
       "    \n",
       "            var tile_layer_65d5cb2a45ba88a44d8b8b17cac02e20 = L.tileLayer(\n",
       "                &quot;https://{s}.tile.openstreetmap.org/{z}/{x}/{y}.png&quot;,\n",
       "                {&quot;attribution&quot;: &quot;Data by \\u0026copy; \\u003ca href=\\&quot;http://openstreetmap.org\\&quot;\\u003eOpenStreetMap\\u003c/a\\u003e, under \\u003ca href=\\&quot;http://www.openstreetmap.org/copyright\\&quot;\\u003eODbL\\u003c/a\\u003e.&quot;, &quot;detectRetina&quot;: false, &quot;maxNativeZoom&quot;: 18, &quot;maxZoom&quot;: 18, &quot;minZoom&quot;: 0, &quot;noWrap&quot;: false, &quot;opacity&quot;: 1, &quot;subdomains&quot;: &quot;abc&quot;, &quot;tms&quot;: false}\n",
       "            ).addTo(map_87eefaf159ece6434335f6022682b821);\n",
       "        \n",
       "    \n",
       "            map_87eefaf159ece6434335f6022682b821.fitBounds(\n",
       "                [[32, -125], [37.166111, -113.131211]],\n",
       "                {}\n",
       "            );\n",
       "        \n",
       "    \n",
       "            var marker_caa6cabfd841022c7bba54c9ace0d3e8 = L.marker(\n",
       "                [32.0, -125.0],\n",
       "                {&quot;iconColor&quot;: &quot;white&quot;}\n",
       "            ).addTo(map_87eefaf159ece6434335f6022682b821);\n",
       "        \n",
       "&lt;/script&gt;\" style=\"position:absolute;width:100%;height:100%;left:0;top:0;border:none !important;\" allowfullscreen webkitallowfullscreen mozallowfullscreen></iframe></div></div>"
      ],
      "text/plain": [
       "<folium.folium.Map at 0x7f8fda5a8a60>"
      ]
     },
     "metadata": {},
     "output_type": "display_data"
    },
    {
     "name": "stdout",
     "output_type": "stream",
     "text": [
      "[[32, -125], [37.166111, -113.131211]]\n",
      "Points used to calculate horizontal distance ([32, -113.131211], [37.166111, -113.131211])\n",
      "\n",
      "Points used to calculate vertical distance ([37.166111, -125], [37.166111, -113.131211])\n",
      "\n",
      "1053468.4955375642 1120954.4008196369\n",
      "Horizontal:  573093.4064322722\n",
      "Vertical:  1053468.4955375642\n",
      "\n",
      "\n",
      "Horizontal increment rate: 0.0009014327342523121\n",
      "Vertical increment rate: 0.0011266055054579979\n",
      "\n",
      "\n",
      "Length X:  5731  | Starting at:  37.166111  to  42.33132057\n",
      "Length Y:  10535  | Starting at:  -125.0  to  -113.13233761\n"
     ]
    }
   ],
   "source": [
    "# north_west_coordinates = [42.009518,-124.409591] # old\n",
    "# north_west_coordinates = [42.157006, -124.907264] # new\n",
    "north_west_coordinates = [32, -125] # new\n",
    "\n",
    "mid_eastern_coordinates = [37.166111, -113.131211] # old\n",
    "# mid_eastern_coordinates = [37.166111 ,-113.84824142] # new\n",
    "# mid_eastern_coordinates = [37.166111 ,-101.84824142] # new\n",
    "calif_bounding = [north_west_coordinates, mid_eastern_coordinates]\n",
    "print(calif_bounding)\n",
    "# Center of California\n",
    "x1 = (calif_bounding[0][0] + calif_bounding[1][0])/2\n",
    "y1 = (calif_bounding[0][1] + calif_bounding[1][1])/2\n",
    "m = folium.Map(location=[x1, y1], width=750, height=500)\n",
    "m.fit_bounds(calif_bounding)\n",
    "folium.Marker(location=calif_bounding[0], icon_color='white').add_to(m)\n",
    "# folium.Marker(location=calif_bounding[1], icon_color='blue').add_to(m)\n",
    "display(m)\n",
    "\n",
    "calif_bounding = [north_west_coordinates, mid_eastern_coordinates]\n",
    "\n",
    "\n",
    "print(calif_bounding)\n",
    "\n",
    "north_distance_hor = geopy.distance.distance([calif_bounding[0][0], calif_bounding[1][1]], \n",
    "                                             [calif_bounding[1][0],calif_bounding[1][1]])\n",
    "\n",
    "\n",
    "\n",
    "print(f'Points used to calculate horizontal distance {[calif_bounding[0][0], calif_bounding[1][1]], [calif_bounding[1][0],calif_bounding[1][1]]}\\n')\n",
    "\n",
    "north_horizontal_meter_distance =  north_distance_hor.m\n",
    "\n",
    "north_distance_vert = geopy.distance.distance([calif_bounding[1][0],calif_bounding[0][1]],\n",
    "                                              [calif_bounding[1][0], calif_bounding[1][1]])\n",
    "\n",
    "print(f'Points used to calculate vertical distance {[calif_bounding[1][0],calif_bounding[0][1]], [calif_bounding[1][0], calif_bounding[1][1]]}\\n')\n",
    "\n",
    "print(geopy.distance.distance([calif_bounding[1][0],calif_bounding[0][1]],\n",
    "                                              [calif_bounding[1][0], calif_bounding[1][1]]).m , geopy.distance.distance([calif_bounding[0][0],calif_bounding[0][1]],\n",
    "                                              [calif_bounding[0][0], calif_bounding[1][1]]).m)\n",
    "\n",
    "north_vertical_meter_distance = north_distance_vert.m\n",
    "print(\"Horizontal: \", north_horizontal_meter_distance)\n",
    "print(\"Vertical: \", north_vertical_meter_distance)\n",
    "\n",
    "\n",
    "length = 100\n",
    "\n",
    "north_hor_split_m = math.ceil(north_horizontal_meter_distance/length)\n",
    "north_vert_split_m = math.ceil(north_vertical_meter_distance/length)\n",
    "\n",
    "north_hor_split_c = abs(calif_bounding[0][0] - calif_bounding[1][0]) / north_hor_split_m\n",
    "north_vert_split_c = abs(calif_bounding[1][1] - calif_bounding[0][1]) / north_vert_split_m\n",
    "\n",
    "# print(calif_bounding[0][1])\n",
    "top_x_100 = [round(calif_bounding[1][0]+i*north_hor_split_c, 8) for i in range(north_hor_split_m)]\n",
    "top_y_100 = [round(calif_bounding[0][1]+i*north_vert_split_c, 8) for i in range(north_vert_split_m)]\n",
    "# x_100 = [round(max_lon+i*north_hor_split_c, 8) for i in range(north_hor_split_m)]\n",
    "# y_100 = [round(center_lat-i*north_vert_split_c, 8) for i in range(north_vert_split_m)]\n",
    "\n",
    "print(f\"\\n\\nHorizontal increment rate: {north_hor_split_c}\")\n",
    "print(f\"Vertical increment rate: {north_vert_split_c}\\n\\n\")\n",
    "print(\"Length X: \", len(top_x_100),\" | Starting at: \", top_x_100[0], \" to \", top_x_100[len(top_x_100)-1])\n",
    "print(\"Length Y: \", len(top_y_100),\" | Starting at: \", top_y_100[0], \" to \", top_y_100[len(top_y_100)-1])\n",
    "\n"
   ]
  },
  {
   "cell_type": "code",
   "execution_count": 35,
   "id": "3f560071",
   "metadata": {
    "ExecuteTime": {
     "end_time": "2022-07-11T21:48:16.783785Z",
     "start_time": "2022-07-11T21:48:16.782112Z"
    }
   },
   "outputs": [],
   "source": [
    "# print((x_100[0], y_100[0]), (x_100[0], y_100[1]))\n",
    "# left_right = geopy.distance.distance((x_100[0], y_100[0]), (x_100[0], y_100[1])).m\n",
    "# up_down = geopy.distance.distance((x_100[0], y_100[0]), (x_100[1], y_100[0])).m\n",
    "\n",
    "# final_lf = geopy.distance.distance((x_100[0], y_100[-2]), (x_100[0], y_100[-1])).m\n",
    "# final_ud = geopy.distance.distance((x_100[-2], y_100[0]), (x_100[-1], y_100[0])).m\n",
    "# print(f'1st\\nMeters moving left/right:\\t{left_right}\\nMeters moving up/down:\\t{up_down}\\n\\n')\n",
    "# print(f'LAST\\nMeters moving left/right:\\t{final_lf}\\nMeters moving up/down:\\t{final_ud}')"
   ]
  },
  {
   "cell_type": "code",
   "execution_count": 14,
   "id": "b370f049",
   "metadata": {
    "ExecuteTime": {
     "end_time": "2022-07-11T01:12:22.446645Z",
     "start_time": "2022-07-11T01:12:22.422146Z"
    }
   },
   "outputs": [
    {
     "data": {
      "text/html": [
       "<div>\n",
       "<style scoped>\n",
       "    .dataframe tbody tr th:only-of-type {\n",
       "        vertical-align: middle;\n",
       "    }\n",
       "\n",
       "    .dataframe tbody tr th {\n",
       "        vertical-align: top;\n",
       "    }\n",
       "\n",
       "    .dataframe thead th {\n",
       "        text-align: right;\n",
       "    }\n",
       "</style>\n",
       "<table border=\"1\" class=\"dataframe\">\n",
       "  <thead>\n",
       "    <tr style=\"text-align: right;\">\n",
       "      <th></th>\n",
       "      <th>lon</th>\n",
       "      <th>lat</th>\n",
       "    </tr>\n",
       "  </thead>\n",
       "  <tbody>\n",
       "    <tr>\n",
       "      <th>0</th>\n",
       "      <td>-125.000000</td>\n",
       "      <td>37.166111</td>\n",
       "    </tr>\n",
       "    <tr>\n",
       "      <th>1</th>\n",
       "      <td>-124.998873</td>\n",
       "      <td>37.167012</td>\n",
       "    </tr>\n",
       "    <tr>\n",
       "      <th>2</th>\n",
       "      <td>-124.997747</td>\n",
       "      <td>37.167914</td>\n",
       "    </tr>\n",
       "    <tr>\n",
       "      <th>3</th>\n",
       "      <td>-124.996620</td>\n",
       "      <td>37.168815</td>\n",
       "    </tr>\n",
       "    <tr>\n",
       "      <th>4</th>\n",
       "      <td>-124.995494</td>\n",
       "      <td>37.169717</td>\n",
       "    </tr>\n",
       "    <tr>\n",
       "      <th>...</th>\n",
       "      <td>...</td>\n",
       "      <td>...</td>\n",
       "    </tr>\n",
       "    <tr>\n",
       "      <th>10530</th>\n",
       "      <td>-113.136844</td>\n",
       "      <td>NaN</td>\n",
       "    </tr>\n",
       "    <tr>\n",
       "      <th>10531</th>\n",
       "      <td>-113.135717</td>\n",
       "      <td>NaN</td>\n",
       "    </tr>\n",
       "    <tr>\n",
       "      <th>10532</th>\n",
       "      <td>-113.134591</td>\n",
       "      <td>NaN</td>\n",
       "    </tr>\n",
       "    <tr>\n",
       "      <th>10533</th>\n",
       "      <td>-113.133464</td>\n",
       "      <td>NaN</td>\n",
       "    </tr>\n",
       "    <tr>\n",
       "      <th>10534</th>\n",
       "      <td>-113.132338</td>\n",
       "      <td>NaN</td>\n",
       "    </tr>\n",
       "  </tbody>\n",
       "</table>\n",
       "<p>10535 rows × 2 columns</p>\n",
       "</div>"
      ],
      "text/plain": [
       "              lon        lat\n",
       "0     -125.000000  37.166111\n",
       "1     -124.998873  37.167012\n",
       "2     -124.997747  37.167914\n",
       "3     -124.996620  37.168815\n",
       "4     -124.995494  37.169717\n",
       "...           ...        ...\n",
       "10530 -113.136844        NaN\n",
       "10531 -113.135717        NaN\n",
       "10532 -113.134591        NaN\n",
       "10533 -113.133464        NaN\n",
       "10534 -113.132338        NaN\n",
       "\n",
       "[10535 rows x 2 columns]"
      ]
     },
     "metadata": {},
     "output_type": "display_data"
    },
    {
     "name": "stdout",
     "output_type": "stream",
     "text": [
      "North Grid:  92.85473578398286 \n",
      "\n",
      "(42.33132057, -125.0) (42.33132057, -124.99887339)\n",
      "\n",
      "South Grid:  100.0619825879436 \n",
      "\n",
      "(37.166111, -113.13233761) (37.166111, -113.13346421)\n",
      "\n",
      "South West Distance:  100.06287076404662 \n",
      "\n",
      "((37.166111, -125.0), (37.166111, -124.99887339))\n",
      "\n",
      "North East Distance:  100.06287076404662 \n",
      "\n",
      "((42.33132057, -113.13233761), (42.33132057, -113.13346421))\n"
     ]
    }
   ],
   "source": [
    "import pandas as pd\n",
    "top_sample = pd.DataFrame({'lon':top_y_100})\n",
    "top_sample['lat'] = pd.Series(top_x_100)\n",
    "display(top_sample)\n",
    "\n",
    "distance_hor = geopy.distance.distance(\n",
    "    (top_sample.lat.max(),top_sample.lon[0]),\n",
    "    (top_sample.lat.max(), top_sample.lon[1])\n",
    ").m\n",
    "print(\"North Grid: \", distance_hor, '\\n')\n",
    "# Vertical\n",
    "\n",
    "print(\n",
    "    (top_sample.lat.max(),top_sample.lon[0]),\n",
    "    (top_sample.lat.max(), top_sample.lon[1])\n",
    ")\n",
    "distance_vert = geopy.distance.distance(\n",
    "    (top_sample.lat.min(), top_sample.lon.values[len(top_y_100)-1]),\n",
    "    (top_sample.lat.min(), top_sample.lon.values[len(top_y_100)-2])\n",
    ").m\n",
    "print(\"\\nSouth Grid: \", distance_vert, '\\n')\n",
    "print((top_sample.lat.min(), top_sample.lon.values[len(top_y_100)-1]),\n",
    "    (top_sample.lat.min(), top_sample.lon.values[len(top_y_100)-2]))\n",
    "\n",
    "sw_coords = (top_sample.lat.min(), top_sample.lon.values[0]), (top_sample.lat.min(), top_sample.lon.values[1])\n",
    "\n",
    "south_west_distance = geopy.distance.distance(*sw_coords).m\n",
    "\n",
    "print('\\nSouth West Distance: ', south_west_distance, '\\n')\n",
    "\n",
    "print(sw_coords)\n",
    "\n",
    "\n",
    "ne_coords = (top_sample.lat.max(), top_sample.lon.values[-1]), (top_sample.lat.max(), top_sample.lon.values[-2])\n",
    "\n",
    "north_east_distance = geopy.distance.distance(*sw_coords).m\n",
    "\n",
    "print('\\nNorth East Distance: ', north_east_distance, '\\n')\n",
    "\n",
    "print(ne_coords)"
   ]
  },
  {
   "cell_type": "code",
   "execution_count": 15,
   "id": "7df30a41",
   "metadata": {
    "ExecuteTime": {
     "end_time": "2022-07-11T01:12:36.874091Z",
     "start_time": "2022-07-11T01:12:36.867856Z"
    }
   },
   "outputs": [
    {
     "data": {
      "text/html": [
       "<div>\n",
       "<style scoped>\n",
       "    .dataframe tbody tr th:only-of-type {\n",
       "        vertical-align: middle;\n",
       "    }\n",
       "\n",
       "    .dataframe tbody tr th {\n",
       "        vertical-align: top;\n",
       "    }\n",
       "\n",
       "    .dataframe thead th {\n",
       "        text-align: right;\n",
       "    }\n",
       "</style>\n",
       "<table border=\"1\" class=\"dataframe\">\n",
       "  <thead>\n",
       "    <tr style=\"text-align: right;\">\n",
       "      <th></th>\n",
       "      <th>lon</th>\n",
       "      <th>lat</th>\n",
       "    </tr>\n",
       "  </thead>\n",
       "  <tbody>\n",
       "    <tr>\n",
       "      <th>0</th>\n",
       "      <td>-125.0</td>\n",
       "      <td>37.166111</td>\n",
       "    </tr>\n",
       "  </tbody>\n",
       "</table>\n",
       "</div>"
      ],
      "text/plain": [
       "     lon        lat\n",
       "0 -125.0  37.166111"
      ]
     },
     "execution_count": 15,
     "metadata": {},
     "output_type": "execute_result"
    }
   ],
   "source": [
    "top_sample[top_sample.lat == 37.166111]"
   ]
  },
  {
   "cell_type": "code",
   "execution_count": 16,
   "id": "eeb00625",
   "metadata": {
    "ExecuteTime": {
     "end_time": "2022-07-11T01:12:37.820759Z",
     "start_time": "2022-07-11T01:12:37.794809Z"
    }
   },
   "outputs": [
    {
     "data": {
      "text/html": [
       "<div style=\"width:100%;\"><div style=\"position:relative;width:100%;height:0;padding-bottom:60%;\"><span style=\"color:#565656\">Make this Notebook Trusted to load map: File -> Trust Notebook</span><iframe srcdoc=\"&lt;!DOCTYPE html&gt;\n",
       "&lt;head&gt;    \n",
       "    &lt;meta http-equiv=&quot;content-type&quot; content=&quot;text/html; charset=UTF-8&quot; /&gt;\n",
       "    \n",
       "        &lt;script&gt;\n",
       "            L_NO_TOUCH = false;\n",
       "            L_DISABLE_3D = false;\n",
       "        &lt;/script&gt;\n",
       "    \n",
       "    &lt;style&gt;html, body {width: 100%;height: 100%;margin: 0;padding: 0;}&lt;/style&gt;\n",
       "    &lt;style&gt;#map {position:absolute;top:0;bottom:0;right:0;left:0;}&lt;/style&gt;\n",
       "    &lt;script src=&quot;https://cdn.jsdelivr.net/npm/leaflet@1.6.0/dist/leaflet.js&quot;&gt;&lt;/script&gt;\n",
       "    &lt;script src=&quot;https://code.jquery.com/jquery-1.12.4.min.js&quot;&gt;&lt;/script&gt;\n",
       "    &lt;script src=&quot;https://maxcdn.bootstrapcdn.com/bootstrap/3.2.0/js/bootstrap.min.js&quot;&gt;&lt;/script&gt;\n",
       "    &lt;script src=&quot;https://cdnjs.cloudflare.com/ajax/libs/Leaflet.awesome-markers/2.0.2/leaflet.awesome-markers.js&quot;&gt;&lt;/script&gt;\n",
       "    &lt;link rel=&quot;stylesheet&quot; href=&quot;https://cdn.jsdelivr.net/npm/leaflet@1.6.0/dist/leaflet.css&quot;/&gt;\n",
       "    &lt;link rel=&quot;stylesheet&quot; href=&quot;https://maxcdn.bootstrapcdn.com/bootstrap/3.2.0/css/bootstrap.min.css&quot;/&gt;\n",
       "    &lt;link rel=&quot;stylesheet&quot; href=&quot;https://maxcdn.bootstrapcdn.com/bootstrap/3.2.0/css/bootstrap-theme.min.css&quot;/&gt;\n",
       "    &lt;link rel=&quot;stylesheet&quot; href=&quot;https://maxcdn.bootstrapcdn.com/font-awesome/4.6.3/css/font-awesome.min.css&quot;/&gt;\n",
       "    &lt;link rel=&quot;stylesheet&quot; href=&quot;https://cdnjs.cloudflare.com/ajax/libs/Leaflet.awesome-markers/2.0.2/leaflet.awesome-markers.css&quot;/&gt;\n",
       "    &lt;link rel=&quot;stylesheet&quot; href=&quot;https://cdn.jsdelivr.net/gh/python-visualization/folium/folium/templates/leaflet.awesome.rotate.min.css&quot;/&gt;\n",
       "    \n",
       "            &lt;meta name=&quot;viewport&quot; content=&quot;width=device-width,\n",
       "                initial-scale=1.0, maximum-scale=1.0, user-scalable=no&quot; /&gt;\n",
       "            &lt;style&gt;\n",
       "                #map_58cbeecd9457e89102e2b6a7ae0d9cff {\n",
       "                    position: relative;\n",
       "                    width: 750.0px;\n",
       "                    height: 500.0px;\n",
       "                    left: 0.0%;\n",
       "                    top: 0.0%;\n",
       "                }\n",
       "            &lt;/style&gt;\n",
       "        \n",
       "&lt;/head&gt;\n",
       "&lt;body&gt;    \n",
       "    \n",
       "            &lt;div class=&quot;folium-map&quot; id=&quot;map_58cbeecd9457e89102e2b6a7ae0d9cff&quot; &gt;&lt;/div&gt;\n",
       "        \n",
       "&lt;/body&gt;\n",
       "&lt;script&gt;    \n",
       "    \n",
       "            var map_58cbeecd9457e89102e2b6a7ae0d9cff = L.map(\n",
       "                &quot;map_58cbeecd9457e89102e2b6a7ae0d9cff&quot;,\n",
       "                {\n",
       "                    center: [34.858873, -119.37775271],\n",
       "                    crs: L.CRS.EPSG3857,\n",
       "                    zoom: 10,\n",
       "                    zoomControl: true,\n",
       "                    preferCanvas: false,\n",
       "                }\n",
       "            );\n",
       "\n",
       "            \n",
       "\n",
       "        \n",
       "    \n",
       "            var tile_layer_55792746f0bc4aeda45c01486e1c7d60 = L.tileLayer(\n",
       "                &quot;https://{s}.tile.openstreetmap.org/{z}/{x}/{y}.png&quot;,\n",
       "                {&quot;attribution&quot;: &quot;Data by \\u0026copy; \\u003ca href=\\&quot;http://openstreetmap.org\\&quot;\\u003eOpenStreetMap\\u003c/a\\u003e, under \\u003ca href=\\&quot;http://www.openstreetmap.org/copyright\\&quot;\\u003eODbL\\u003c/a\\u003e.&quot;, &quot;detectRetina&quot;: false, &quot;maxNativeZoom&quot;: 18, &quot;maxZoom&quot;: 18, &quot;minZoom&quot;: 0, &quot;noWrap&quot;: false, &quot;opacity&quot;: 1, &quot;subdomains&quot;: &quot;abc&quot;, &quot;tms&quot;: false}\n",
       "            ).addTo(map_58cbeecd9457e89102e2b6a7ae0d9cff);\n",
       "        \n",
       "    \n",
       "            map_58cbeecd9457e89102e2b6a7ae0d9cff.fitBounds(\n",
       "                [[37.166111, -124.907264], [32.551635, -113.84824142]],\n",
       "                {}\n",
       "            );\n",
       "        \n",
       "    \n",
       "            var marker_19926fe2752bb95dd7e60653cbdbb84d = L.marker(\n",
       "                [37.166111, -124.907264],\n",
       "                {&quot;iconColor&quot;: &quot;white&quot;}\n",
       "            ).addTo(map_58cbeecd9457e89102e2b6a7ae0d9cff);\n",
       "        \n",
       "    \n",
       "            var marker_f06344a5b9a920881ac734077de5a904 = L.marker(\n",
       "                [32.551635, -113.84824142],\n",
       "                {&quot;iconColor&quot;: &quot;blue&quot;}\n",
       "            ).addTo(map_58cbeecd9457e89102e2b6a7ae0d9cff);\n",
       "        \n",
       "&lt;/script&gt;\" style=\"position:absolute;width:100%;height:100%;left:0;top:0;border:none !important;\" allowfullscreen webkitallowfullscreen mozallowfullscreen></iframe></div></div>"
      ],
      "text/plain": [
       "<folium.folium.Map at 0x7f8fda5c8850>"
      ]
     },
     "metadata": {},
     "output_type": "display_data"
    },
    {
     "name": "stdout",
     "output_type": "stream",
     "text": [
      "Points used to calculate horizontal distance ([37.166111, -124.907264], [32.551635, -124.907264])\n",
      "\n",
      "Points used to calculate vertical distance ([32.551635, -124.907264], [32.551635, -113.84824142])\n",
      "\n",
      "Horizontal:  511921.6903136763\n",
      "Vertical:  981678.863272959\n",
      "\n",
      "\n",
      "Horizontal increment rate: 0.0009012648437500007\n",
      "Vertical increment rate: 0.0011265175287766124\n",
      "\n",
      "\n",
      "Length X:  5120  | Starting at:  37.166111  to  32.55253626\n",
      "Length Y:  9817  | Starting at:  -124.907264  to  -113.84936794\n"
     ]
    }
   ],
   "source": [
    "# mid_north_western_coordinates = [37.166111,-124.409591] # old\n",
    "mid_north_western_coordinates = [37.166111, -124.907264] # new\n",
    "# south_eastesrn_coordinates = [32.534156, -114.131211]# original \n",
    "south_eastesrn_coordinates = [32.551635, -113.84824142] # new\n",
    "# mid_eastesrn_coordinates = [37.250203904554674, -124.409591]\n",
    "\n",
    "calif_bounding = [mid_north_western_coordinates, south_eastesrn_coordinates]\n",
    "\n",
    "# Center of California\n",
    "x1 = (calif_bounding[0][0] + calif_bounding[1][0])/2\n",
    "y1 = (calif_bounding[0][1] + calif_bounding[1][1])/2\n",
    "m = folium.Map(location=[x1, y1], width=750, height=500)\n",
    "m.fit_bounds(calif_bounding)\n",
    "folium.Marker(location=calif_bounding[0], icon_color='white').add_to(m)\n",
    "folium.Marker(location=calif_bounding[1], icon_color='blue').add_to(m)\n",
    "display(m)\n",
    "\n",
    "\n",
    "# center lat is the min_lat for north\n",
    "\n",
    "north_distance_hor = geopy.distance.distance([calif_bounding[0][0], calif_bounding[0][1]], \n",
    "                                             [calif_bounding[1][0],calif_bounding[0][1]])\n",
    "north_horizontal_meter_distance =  north_distance_hor.m\n",
    "\n",
    "print(f'Points used to calculate horizontal distance {[calif_bounding[0][0], calif_bounding[0][1]], [calif_bounding[1][0],calif_bounding[0][1]]}\\n')\n",
    "\n",
    "\n",
    "\n",
    "north_distance_vert = geopy.distance.distance(calif_bounding[0],\n",
    "                                              [calif_bounding[0][0], calif_bounding[1][1]])\n",
    "\n",
    "print(f'Points used to calculate vertical distance {[calif_bounding[1][0],calif_bounding[0][1]], [calif_bounding[1][0], calif_bounding[1][1]]}\\n')\n",
    "\n",
    "north_vertical_meter_distance = north_distance_vert.m\n",
    "\n",
    "\n",
    "print(\"Horizontal: \", north_horizontal_meter_distance)\n",
    "print(\"Vertical: \", north_vertical_meter_distance)\n",
    "\n",
    "# distance_diag = geopy.distance.distance((42.009518,-124.409591),(32.534156,-114.131211)).m\n",
    "# mathed = math.sqrt(north_horizontal_meter_distance**2 + north_vertical_meter_distance**2)\n",
    "# real = distance_diag\n",
    "# error = (real - mathed) / real * 100\n",
    "# print(\"Error :\", error, \"%\")\n",
    "\n",
    "length = 100\n",
    "north_hor_split_m = math.ceil(north_horizontal_meter_distance/length)\n",
    "north_vert_split_m = math.ceil(north_vertical_meter_distance/length)\n",
    "\n",
    "\n",
    "north_hor_split_c = abs(calif_bounding[0][0] - calif_bounding[1][0]) / north_hor_split_m\n",
    "north_vert_split_c = abs(calif_bounding[1][1] - calif_bounding[0][1]) / north_vert_split_m\n",
    "\n",
    "x_100 = [round(calif_bounding[0][0]-i*north_hor_split_c, 8) for i in range(north_hor_split_m)]\n",
    "y_100 = [round(calif_bounding[0][1]+i*north_vert_split_c, 8) for i in range(north_vert_split_m)]\n",
    "\n",
    "\n",
    "print(f\"\\n\\nHorizontal increment rate: {north_hor_split_c}\")\n",
    "print(f\"Vertical increment rate: {north_vert_split_c}\\n\\n\")\n",
    "print(\"Length X: \", len(x_100),\" | Starting at: \", x_100[0], \" to \", x_100[len(x_100)-1])\n",
    "print(\"Length Y: \", len(y_100),\" | Starting at: \", y_100[0], \" to \", y_100[len(y_100)-1])\n",
    "\n"
   ]
  },
  {
   "cell_type": "code",
   "execution_count": 17,
   "id": "7c47083f",
   "metadata": {
    "ExecuteTime": {
     "end_time": "2022-07-11T01:12:40.082388Z",
     "start_time": "2022-07-11T01:12:40.080508Z"
    }
   },
   "outputs": [],
   "source": [
    "# print((x_100[0], y_100[0]), (x_100[0], y_100[1]))\n",
    "# left_right = geopy.distance.distance((x_100[0], y_100[0]), (x_100[0], y_100[1])).m\n",
    "# up_down = geopy.distance.distance((x_100[0], y_100[0]), (x_100[1], y_100[0])).m\n",
    "\n",
    "# final_lf = geopy.distance.distance((x_100[0], y_100[-2]), (x_100[0], y_100[-1])).m\n",
    "# final_ud = geopy.distance.distance((x_100[-2], y_100[0]), (x_100[-1], y_100[0])).m\n",
    "# print(f'1st\\nMeters moving left/right:\\t{left_right}\\nMeters moving up/down:\\t{up_down}\\n\\n')\n",
    "# print(f'LAST\\nMeters moving left/right:\\t{final_lf}\\nMeters moving up/down:\\t{final_ud}')"
   ]
  },
  {
   "cell_type": "code",
   "execution_count": 18,
   "id": "cd302af0",
   "metadata": {
    "ExecuteTime": {
     "end_time": "2022-07-11T01:13:27.349322Z",
     "start_time": "2022-07-11T01:13:27.334383Z"
    }
   },
   "outputs": [
    {
     "data": {
      "text/html": [
       "<div>\n",
       "<style scoped>\n",
       "    .dataframe tbody tr th:only-of-type {\n",
       "        vertical-align: middle;\n",
       "    }\n",
       "\n",
       "    .dataframe tbody tr th {\n",
       "        vertical-align: top;\n",
       "    }\n",
       "\n",
       "    .dataframe thead th {\n",
       "        text-align: right;\n",
       "    }\n",
       "</style>\n",
       "<table border=\"1\" class=\"dataframe\">\n",
       "  <thead>\n",
       "    <tr style=\"text-align: right;\">\n",
       "      <th></th>\n",
       "      <th>lon</th>\n",
       "      <th>lat</th>\n",
       "    </tr>\n",
       "  </thead>\n",
       "  <tbody>\n",
       "    <tr>\n",
       "      <th>0</th>\n",
       "      <td>-124.907264</td>\n",
       "      <td>37.166111</td>\n",
       "    </tr>\n",
       "    <tr>\n",
       "      <th>1</th>\n",
       "      <td>-124.906137</td>\n",
       "      <td>37.165210</td>\n",
       "    </tr>\n",
       "    <tr>\n",
       "      <th>2</th>\n",
       "      <td>-124.905011</td>\n",
       "      <td>37.164308</td>\n",
       "    </tr>\n",
       "    <tr>\n",
       "      <th>3</th>\n",
       "      <td>-124.903884</td>\n",
       "      <td>37.163407</td>\n",
       "    </tr>\n",
       "    <tr>\n",
       "      <th>4</th>\n",
       "      <td>-124.902758</td>\n",
       "      <td>37.162506</td>\n",
       "    </tr>\n",
       "    <tr>\n",
       "      <th>...</th>\n",
       "      <td>...</td>\n",
       "      <td>...</td>\n",
       "    </tr>\n",
       "    <tr>\n",
       "      <th>9812</th>\n",
       "      <td>-113.853874</td>\n",
       "      <td>NaN</td>\n",
       "    </tr>\n",
       "    <tr>\n",
       "      <th>9813</th>\n",
       "      <td>-113.852747</td>\n",
       "      <td>NaN</td>\n",
       "    </tr>\n",
       "    <tr>\n",
       "      <th>9814</th>\n",
       "      <td>-113.851621</td>\n",
       "      <td>NaN</td>\n",
       "    </tr>\n",
       "    <tr>\n",
       "      <th>9815</th>\n",
       "      <td>-113.850494</td>\n",
       "      <td>NaN</td>\n",
       "    </tr>\n",
       "    <tr>\n",
       "      <th>9816</th>\n",
       "      <td>-113.849368</td>\n",
       "      <td>NaN</td>\n",
       "    </tr>\n",
       "  </tbody>\n",
       "</table>\n",
       "<p>9817 rows × 2 columns</p>\n",
       "</div>"
      ],
      "text/plain": [
       "             lon        lat\n",
       "0    -124.907264  37.166111\n",
       "1    -124.906137  37.165210\n",
       "2    -124.905011  37.164308\n",
       "3    -124.903884  37.163407\n",
       "4    -124.902758  37.162506\n",
       "...          ...        ...\n",
       "9812 -113.853874        NaN\n",
       "9813 -113.852747        NaN\n",
       "9814 -113.851621        NaN\n",
       "9815 -113.850494        NaN\n",
       "9816 -113.849368        NaN\n",
       "\n",
       "[9817 rows x 2 columns]"
      ]
     },
     "metadata": {},
     "output_type": "display_data"
    },
    {
     "name": "stdout",
     "output_type": "stream",
     "text": [
      "North Grid:  100.05487717407065\n",
      "(32.55253626, -113.84936794) (32.55253626, -113.85049446)\n",
      "South Grid:  105.80510850301256\n"
     ]
    }
   ],
   "source": [
    "import pandas as pd\n",
    "sample = pd.DataFrame({'lon':y_100})\n",
    "sample['lat'] = pd.Series(x_100)\n",
    "display(sample)\n",
    "\n",
    "distance_hor = geopy.distance.distance(\n",
    "    (sample.lat.max(),sample.lon[0]),\n",
    "    (sample.lat.max(), sample.lon[1])\n",
    ").m\n",
    "print(\"North Grid: \", distance_hor)\n",
    "# Vertical\n",
    "\n",
    "distance_vert = geopy.distance.distance(\n",
    "    (sample.lat.min(), sample.lon.values[len(y_100)-1]),\n",
    "    (sample.lat.min(), sample.lon.values[len(y_100)-2])\n",
    ").m\n",
    "print((sample.lat.min(), sample.lon.values[len(y_100)-1]), (sample.lat.min(), sample.lon.values[len(y_100)-2]))\n",
    "print(\"South Grid: \", distance_vert)"
   ]
  },
  {
   "cell_type": "code",
   "execution_count": 19,
   "id": "5563aeab",
   "metadata": {
    "ExecuteTime": {
     "end_time": "2022-07-11T01:13:30.947741Z",
     "start_time": "2022-07-11T01:13:30.943088Z"
    }
   },
   "outputs": [
    {
     "data": {
      "text/plain": [
       "105.80510850301256"
      ]
     },
     "execution_count": 19,
     "metadata": {},
     "output_type": "execute_result"
    }
   ],
   "source": [
    "geopy.distance.distance((32.55253626,-124.907264), (32.55253626, -124.90613748)).m"
   ]
  },
  {
   "cell_type": "code",
   "execution_count": 20,
   "id": "e80507d1",
   "metadata": {
    "ExecuteTime": {
     "end_time": "2022-06-24T21:06:35.290916Z",
     "start_time": "2022-06-24T21:06:35.288168Z"
    }
   },
   "outputs": [],
   "source": [
    "# # Creating grid vectors\n",
    "# l = 100\n",
    "\n",
    "# calif_bounding = [[42.009518,-124.409591],[32.534156,-114.131211]]\n",
    "\n",
    "# # Distance\n",
    "# import geopy.distance\n",
    "# import math\n",
    "\n",
    "# # Horizontal\n",
    "# distance_hor = geopy.distance.distance((42.009518,-124.409591),(32.534156,-124.409591)).m # old\n",
    "# # distance_hor = geopy.distance.distance(calif_bounding_horizontal[0],calif_bounding_horizontal[1]).m\n",
    "# print(\"Horizontal: \", distance_hor)\n",
    "# # Vertical\n",
    "# distance_vert = geopy.distance.distance((42.009518,-124.409591),(42.009518,-114.131211)).m # old\n",
    "# # distance_vert = geopy.distance.distance(calif_bounding_vertical[0],calif_bounding_vertical[1]).m\n",
    "# print(\"Veritcal: \", distance_vert)\n",
    "\n",
    "# # Checking w/ Diagonal\n",
    "# distance_diag = geopy.distance.distance((42.009518,-124.409591),(32.534156,-114.131211)).m\n",
    "# mathed = math.sqrt(distance_hor**2 + distance_vert**2)\n",
    "# real = distance_diag\n",
    "# error = (real - mathed) / real * 100\n",
    "# print(\"Error :\", error, \"%\")\n",
    "\n",
    "\n",
    "# hor_split_m = math.ceil(distance_hor/l)\n",
    "# vert_split_m = math.ceil(distance_vert/l)\n",
    "\n",
    "# hor_split_c = abs(calif_bounding[0][0] - calif_bounding[1][0]) / hor_split_m\n",
    "# vert_split_c = abs(calif_bounding[1][1] - calif_bounding[0][1]) / vert_split_m\n",
    "\n",
    "# x_100 = [round(calif_bounding[0][0]-i*hor_split_c, 8) for i in range(hor_split_m)]\n",
    "# y_100 = [round(calif_bounding[0][1]+i*vert_split_c, 8) for i in range(vert_split_m)]\n",
    "\n",
    "# print(\"Length X: \", len(x_100),\" | Starting at: \", x_100[0], \" to \", x_100[len(x_100)-1])\n",
    "# print(\"Length Y: \", len(y_100),\" | Starting at: \", y_100[0], \" to \", y_100[len(y_100)-1])"
   ]
  },
  {
   "cell_type": "code",
   "execution_count": 21,
   "id": "054a8d18",
   "metadata": {
    "ExecuteTime": {
     "end_time": "2022-07-11T01:13:39.688169Z",
     "start_time": "2022-07-11T01:13:39.681340Z"
    }
   },
   "outputs": [
    {
     "name": "stdout",
     "output_type": "stream",
     "text": [
      "(37.166111, -124.907264) (37.166111, -124.90613748)\n",
      "(37.166111, -124.907264) (37.16520974, -124.907264)\n",
      "\n",
      "1st\n",
      "Meters moving left/right:\t100.05487717407065\n",
      "Meters moving up/down:\t100.02251041040883\n",
      "\n",
      "\n",
      "(37.166111, -113.85049446) (37.166111, -113.84936794)\n",
      "(32.55343753, -124.907264) (32.55253626, -124.907264)\n",
      "\n",
      "LAST\n",
      "Meters moving left/right:\t100.05487717407065\n",
      "Meters moving up/down:\t99.94771767243694\n"
     ]
    }
   ],
   "source": [
    "print((x_100[0], y_100[0]), (x_100[0], y_100[1]))\n",
    "print((x_100[0], y_100[0]), (x_100[1], y_100[0]))\n",
    "print('')\n",
    "left_right = geopy.distance.distance((x_100[0], y_100[0]), (x_100[0], y_100[1])).m\n",
    "up_down = geopy.distance.distance((x_100[0], y_100[0]), (x_100[1], y_100[0])).m\n",
    "\n",
    "final_lf = geopy.distance.distance((x_100[0], y_100[-2]), (x_100[0], y_100[-1])).m\n",
    "final_ud = geopy.distance.distance((x_100[-2], y_100[0]), (x_100[-1], y_100[0])).m\n",
    "print(f'1st\\nMeters moving left/right:\\t{left_right}\\nMeters moving up/down:\\t{up_down}\\n\\n')\n",
    "print((x_100[0], y_100[-2]), (x_100[0], y_100[-1]))\n",
    "print((x_100[-2], y_100[0]), (x_100[-1], y_100[0]))\n",
    "print('')\n",
    "print(f'LAST\\nMeters moving left/right:\\t{final_lf}\\nMeters moving up/down:\\t{final_ud}')"
   ]
  },
  {
   "cell_type": "code",
   "execution_count": 22,
   "id": "1b517b11",
   "metadata": {
    "ExecuteTime": {
     "end_time": "2022-07-11T01:13:42.414565Z",
     "start_time": "2022-07-11T01:13:42.402988Z"
    }
   },
   "outputs": [
    {
     "data": {
      "text/html": [
       "<div>\n",
       "<style scoped>\n",
       "    .dataframe tbody tr th:only-of-type {\n",
       "        vertical-align: middle;\n",
       "    }\n",
       "\n",
       "    .dataframe tbody tr th {\n",
       "        vertical-align: top;\n",
       "    }\n",
       "\n",
       "    .dataframe thead th {\n",
       "        text-align: right;\n",
       "    }\n",
       "</style>\n",
       "<table border=\"1\" class=\"dataframe\">\n",
       "  <thead>\n",
       "    <tr style=\"text-align: right;\">\n",
       "      <th></th>\n",
       "      <th>lat</th>\n",
       "      <th>lon</th>\n",
       "    </tr>\n",
       "  </thead>\n",
       "  <tbody>\n",
       "    <tr>\n",
       "      <th>0</th>\n",
       "      <td>37.166111</td>\n",
       "      <td>-124.907264</td>\n",
       "    </tr>\n",
       "    <tr>\n",
       "      <th>1</th>\n",
       "      <td>37.165210</td>\n",
       "      <td>-124.906137</td>\n",
       "    </tr>\n",
       "    <tr>\n",
       "      <th>2</th>\n",
       "      <td>37.164308</td>\n",
       "      <td>-124.905011</td>\n",
       "    </tr>\n",
       "    <tr>\n",
       "      <th>3</th>\n",
       "      <td>37.163407</td>\n",
       "      <td>-124.903884</td>\n",
       "    </tr>\n",
       "    <tr>\n",
       "      <th>4</th>\n",
       "      <td>37.162506</td>\n",
       "      <td>-124.902758</td>\n",
       "    </tr>\n",
       "    <tr>\n",
       "      <th>...</th>\n",
       "      <td>...</td>\n",
       "      <td>...</td>\n",
       "    </tr>\n",
       "    <tr>\n",
       "      <th>5115</th>\n",
       "      <td>32.556141</td>\n",
       "      <td>-119.145127</td>\n",
       "    </tr>\n",
       "    <tr>\n",
       "      <th>5116</th>\n",
       "      <td>32.555240</td>\n",
       "      <td>-119.144000</td>\n",
       "    </tr>\n",
       "    <tr>\n",
       "      <th>5117</th>\n",
       "      <td>32.554339</td>\n",
       "      <td>-119.142874</td>\n",
       "    </tr>\n",
       "    <tr>\n",
       "      <th>5118</th>\n",
       "      <td>32.553438</td>\n",
       "      <td>-119.141747</td>\n",
       "    </tr>\n",
       "    <tr>\n",
       "      <th>5119</th>\n",
       "      <td>32.552536</td>\n",
       "      <td>-119.140621</td>\n",
       "    </tr>\n",
       "  </tbody>\n",
       "</table>\n",
       "<p>5120 rows × 2 columns</p>\n",
       "</div>"
      ],
      "text/plain": [
       "            lat         lon\n",
       "0     37.166111 -124.907264\n",
       "1     37.165210 -124.906137\n",
       "2     37.164308 -124.905011\n",
       "3     37.163407 -124.903884\n",
       "4     37.162506 -124.902758\n",
       "...         ...         ...\n",
       "5115  32.556141 -119.145127\n",
       "5116  32.555240 -119.144000\n",
       "5117  32.554339 -119.142874\n",
       "5118  32.553438 -119.141747\n",
       "5119  32.552536 -119.140621\n",
       "\n",
       "[5120 rows x 2 columns]"
      ]
     },
     "execution_count": 22,
     "metadata": {},
     "output_type": "execute_result"
    }
   ],
   "source": [
    "import pandas as pd\n",
    "sample = pd.DataFrame({'lat':x_100})\n",
    "sample['lon'] = pd.Series(y_100)\n",
    "sample"
   ]
  },
  {
   "cell_type": "code",
   "execution_count": 23,
   "id": "edf97f58",
   "metadata": {
    "ExecuteTime": {
     "end_time": "2022-07-11T01:14:02.119856Z",
     "start_time": "2022-07-11T01:14:02.109412Z"
    }
   },
   "outputs": [
    {
     "data": {
      "text/html": [
       "<div>\n",
       "<style scoped>\n",
       "    .dataframe tbody tr th:only-of-type {\n",
       "        vertical-align: middle;\n",
       "    }\n",
       "\n",
       "    .dataframe tbody tr th {\n",
       "        vertical-align: top;\n",
       "    }\n",
       "\n",
       "    .dataframe thead th {\n",
       "        text-align: right;\n",
       "    }\n",
       "</style>\n",
       "<table border=\"1\" class=\"dataframe\">\n",
       "  <thead>\n",
       "    <tr style=\"text-align: right;\">\n",
       "      <th></th>\n",
       "      <th>lon</th>\n",
       "      <th>lat</th>\n",
       "    </tr>\n",
       "  </thead>\n",
       "  <tbody>\n",
       "    <tr>\n",
       "      <th>0</th>\n",
       "      <td>-124.907264</td>\n",
       "      <td>37.166111</td>\n",
       "    </tr>\n",
       "    <tr>\n",
       "      <th>1</th>\n",
       "      <td>-124.906137</td>\n",
       "      <td>37.165210</td>\n",
       "    </tr>\n",
       "    <tr>\n",
       "      <th>2</th>\n",
       "      <td>-124.905011</td>\n",
       "      <td>37.164308</td>\n",
       "    </tr>\n",
       "    <tr>\n",
       "      <th>3</th>\n",
       "      <td>-124.903884</td>\n",
       "      <td>37.163407</td>\n",
       "    </tr>\n",
       "    <tr>\n",
       "      <th>4</th>\n",
       "      <td>-124.902758</td>\n",
       "      <td>37.162506</td>\n",
       "    </tr>\n",
       "    <tr>\n",
       "      <th>...</th>\n",
       "      <td>...</td>\n",
       "      <td>...</td>\n",
       "    </tr>\n",
       "    <tr>\n",
       "      <th>9812</th>\n",
       "      <td>-113.853874</td>\n",
       "      <td>NaN</td>\n",
       "    </tr>\n",
       "    <tr>\n",
       "      <th>9813</th>\n",
       "      <td>-113.852747</td>\n",
       "      <td>NaN</td>\n",
       "    </tr>\n",
       "    <tr>\n",
       "      <th>9814</th>\n",
       "      <td>-113.851621</td>\n",
       "      <td>NaN</td>\n",
       "    </tr>\n",
       "    <tr>\n",
       "      <th>9815</th>\n",
       "      <td>-113.850494</td>\n",
       "      <td>NaN</td>\n",
       "    </tr>\n",
       "    <tr>\n",
       "      <th>9816</th>\n",
       "      <td>-113.849368</td>\n",
       "      <td>NaN</td>\n",
       "    </tr>\n",
       "  </tbody>\n",
       "</table>\n",
       "<p>9817 rows × 2 columns</p>\n",
       "</div>"
      ],
      "text/plain": [
       "             lon        lat\n",
       "0    -124.907264  37.166111\n",
       "1    -124.906137  37.165210\n",
       "2    -124.905011  37.164308\n",
       "3    -124.903884  37.163407\n",
       "4    -124.902758  37.162506\n",
       "...          ...        ...\n",
       "9812 -113.853874        NaN\n",
       "9813 -113.852747        NaN\n",
       "9814 -113.851621        NaN\n",
       "9815 -113.850494        NaN\n",
       "9816 -113.849368        NaN\n",
       "\n",
       "[9817 rows x 2 columns]"
      ]
     },
     "execution_count": 23,
     "metadata": {},
     "output_type": "execute_result"
    }
   ],
   "source": [
    "import pandas as pd\n",
    "sample = pd.DataFrame({'lon':y_100})\n",
    "sample['lat'] = pd.Series(x_100)\n",
    "sample"
   ]
  },
  {
   "cell_type": "code",
   "execution_count": 25,
   "id": "4519eb9c",
   "metadata": {
    "ExecuteTime": {
     "end_time": "2022-06-24T20:38:44.031414Z",
     "start_time": "2022-06-24T20:38:44.028207Z"
    }
   },
   "outputs": [],
   "source": [
    "# we dont want to deal with gis\n",
    "# bottom top and center\n",
    "# picture about the software\n",
    "# one slide about the p\n",
    "# 3 pictures\n",
    "# data, source code, software\n",
    "# tuesday thursday 5pm meeting\n",
    "# ask wadie to set two meetings a week 10 minutes \n",
    "# Monday and Wednesday\n",
    "# screenshot up pipeline code\n"
   ]
  },
  {
   "cell_type": "code",
   "execution_count": 26,
   "id": "449deed2",
   "metadata": {
    "ExecuteTime": {
     "end_time": "2022-07-11T01:14:17.877502Z",
     "start_time": "2022-07-11T01:14:17.871373Z"
    }
   },
   "outputs": [
    {
     "name": "stdout",
     "output_type": "stream",
     "text": [
      "North Grid:  100.05487717407065\n",
      "South Grid:  105.80510850301256\n"
     ]
    }
   ],
   "source": [
    "# Horizontal\n",
    "# First two coordinates starting at north west\n",
    "distance_hor = geopy.distance.distance(\n",
    "    (sample.lat.max(),sample.lon[0]),\n",
    "    (sample.lat.max(), sample.lon[1])\n",
    ").m\n",
    "print(\"North Grid: \", distance_hor)\n",
    "# Vertical\n",
    "\n",
    "distance_vert = geopy.distance.distance(\n",
    "    (sample.lat.min(), sample.lon.values[len(y_100)-1]),\n",
    "    (sample.lat.min(), sample.lon.values[len(y_100)-2])\n",
    ").m\n",
    "print(\"South Grid: \", distance_vert)"
   ]
  },
  {
   "cell_type": "code",
   "execution_count": 27,
   "id": "a9a44553",
   "metadata": {
    "ExecuteTime": {
     "end_time": "2022-07-11T01:14:19.954368Z",
     "start_time": "2022-07-11T01:14:19.948193Z"
    }
   },
   "outputs": [
    {
     "name": "stdout",
     "output_type": "stream",
     "text": [
      "32.55253626 -113.85049446 32.55253626 -113.84936794\n"
     ]
    },
    {
     "data": {
      "text/plain": [
       "((37.166111, -124.907264), (37.166111, -124.90613748))"
      ]
     },
     "execution_count": 27,
     "metadata": {},
     "output_type": "execute_result"
    }
   ],
   "source": [
    "print(sample.lat.min(), sample.lon.values[len(y_100)-2], sample.lat.min(), sample.lon.values[len(y_100)-1])\n",
    "(sample.lat.max(),sample.lon[0]), (sample.lat.max(), sample.lon[1])"
   ]
  },
  {
   "cell_type": "code",
   "execution_count": 28,
   "id": "55566247",
   "metadata": {
    "ExecuteTime": {
     "end_time": "2022-07-11T01:14:22.523009Z",
     "start_time": "2022-07-11T01:14:22.519329Z"
    }
   },
   "outputs": [
    {
     "data": {
      "text/plain": [
       "32.55253626"
      ]
     },
     "execution_count": 28,
     "metadata": {},
     "output_type": "execute_result"
    }
   ],
   "source": [
    "sample.lat.min()\n"
   ]
  },
  {
   "cell_type": "code",
   "execution_count": 29,
   "id": "e8bbfecb",
   "metadata": {
    "ExecuteTime": {
     "end_time": "2022-07-11T01:14:23.085943Z",
     "start_time": "2022-07-11T01:14:23.080487Z"
    }
   },
   "outputs": [],
   "source": [
    "unique_lats = sorted(list(set([*top_x_100, *x_100])))"
   ]
  },
  {
   "cell_type": "code",
   "execution_count": 30,
   "id": "0fcf0d01",
   "metadata": {
    "ExecuteTime": {
     "end_time": "2022-07-11T01:14:23.593084Z",
     "start_time": "2022-07-11T01:14:23.585021Z"
    }
   },
   "outputs": [
    {
     "data": {
      "text/plain": [
       "(0, 9817)"
      ]
     },
     "execution_count": 30,
     "metadata": {},
     "output_type": "execute_result"
    }
   ],
   "source": [
    "len(set(y_100) & set(top_y_100)), len(y_100)"
   ]
  },
  {
   "cell_type": "code",
   "execution_count": 31,
   "id": "6885b422",
   "metadata": {
    "ExecuteTime": {
     "end_time": "2022-07-11T01:17:20.470742Z",
     "start_time": "2022-07-11T01:17:20.467357Z"
    }
   },
   "outputs": [
    {
     "data": {
      "text/plain": [
       "5120"
      ]
     },
     "execution_count": 31,
     "metadata": {},
     "output_type": "execute_result"
    }
   ],
   "source": [
    "len(x_100)"
   ]
  },
  {
   "cell_type": "code",
   "execution_count": 32,
   "id": "9d157351",
   "metadata": {
    "ExecuteTime": {
     "end_time": "2022-07-11T01:19:52.165328Z",
     "start_time": "2022-07-11T01:19:52.092215Z"
    }
   },
   "outputs": [],
   "source": [
    "first = unique_lats[0]\n",
    "new_x_10 = [first]\n",
    "current_lat = first\n",
    "for lat in unique_lats[1:]:\n",
    "    difference = current_lat - lat\n",
    "    difference_divided_by_10 = difference / 10\n",
    "    for i in range(10):\n",
    "        new_x_10.append(round(current_lat - ((i + 1) * difference_divided_by_10),8))\n",
    "    current_lat = lat"
   ]
  },
  {
   "cell_type": "code",
   "execution_count": 33,
   "id": "e17b4e7b",
   "metadata": {
    "ExecuteTime": {
     "end_time": "2022-07-11T01:19:52.997467Z",
     "start_time": "2022-07-11T01:19:52.915390Z"
    }
   },
   "outputs": [],
   "source": [
    "first = y_100[0]\n",
    "new_y_10 = [first]\n",
    "current_lon = first\n",
    "for lon in y_100[1:]:\n",
    "    difference = current_lon - lon\n",
    "    difference_divided_by_10 = difference / 10\n",
    "    for i in range(10):\n",
    "        new_y_10.append(round(current_lon - ((i + 1) * difference_divided_by_10),8))\n",
    "    current_lon = lon"
   ]
  },
  {
   "cell_type": "code",
   "execution_count": 34,
   "id": "a437aaec",
   "metadata": {
    "ExecuteTime": {
     "end_time": "2022-07-11T01:19:56.309942Z",
     "start_time": "2022-07-11T01:19:56.252782Z"
    }
   },
   "outputs": [
    {
     "name": "stdout",
     "output_type": "stream",
     "text": [
      "Count\n"
     ]
    },
    {
     "data": {
      "text/plain": [
       "10   lat    108491\n",
       "     lon     98161\n",
       "100  lat     10850\n",
       "     lon      9817\n",
       "dtype: int64"
      ]
     },
     "metadata": {},
     "output_type": "display_data"
    },
    {
     "data": {
      "text/html": [
       "<div>\n",
       "<style scoped>\n",
       "    .dataframe tbody tr th:only-of-type {\n",
       "        vertical-align: middle;\n",
       "    }\n",
       "\n",
       "    .dataframe tbody tr th {\n",
       "        vertical-align: top;\n",
       "    }\n",
       "\n",
       "    .dataframe thead tr th {\n",
       "        text-align: left;\n",
       "    }\n",
       "</style>\n",
       "<table border=\"1\" class=\"dataframe\">\n",
       "  <thead>\n",
       "    <tr>\n",
       "      <th></th>\n",
       "      <th colspan=\"2\" halign=\"left\">10</th>\n",
       "      <th colspan=\"2\" halign=\"left\">100</th>\n",
       "    </tr>\n",
       "    <tr>\n",
       "      <th></th>\n",
       "      <th>lat</th>\n",
       "      <th>lon</th>\n",
       "      <th>lat</th>\n",
       "      <th>lon</th>\n",
       "    </tr>\n",
       "  </thead>\n",
       "  <tbody>\n",
       "    <tr>\n",
       "      <th>0</th>\n",
       "      <td>32.552536</td>\n",
       "      <td>-124.907264</td>\n",
       "      <td>32.552536</td>\n",
       "      <td>-124.907264</td>\n",
       "    </tr>\n",
       "    <tr>\n",
       "      <th>1</th>\n",
       "      <td>32.552626</td>\n",
       "      <td>-124.907151</td>\n",
       "      <td>32.553438</td>\n",
       "      <td>-124.906137</td>\n",
       "    </tr>\n",
       "    <tr>\n",
       "      <th>2</th>\n",
       "      <td>32.552717</td>\n",
       "      <td>-124.907039</td>\n",
       "      <td>32.554339</td>\n",
       "      <td>-124.905011</td>\n",
       "    </tr>\n",
       "    <tr>\n",
       "      <th>3</th>\n",
       "      <td>32.552807</td>\n",
       "      <td>-124.906926</td>\n",
       "      <td>32.555240</td>\n",
       "      <td>-124.903884</td>\n",
       "    </tr>\n",
       "    <tr>\n",
       "      <th>4</th>\n",
       "      <td>32.552897</td>\n",
       "      <td>-124.906813</td>\n",
       "      <td>32.556141</td>\n",
       "      <td>-124.902758</td>\n",
       "    </tr>\n",
       "    <tr>\n",
       "      <th>5</th>\n",
       "      <td>32.552987</td>\n",
       "      <td>-124.906701</td>\n",
       "      <td>32.557043</td>\n",
       "      <td>-124.901631</td>\n",
       "    </tr>\n",
       "    <tr>\n",
       "      <th>6</th>\n",
       "      <td>32.553077</td>\n",
       "      <td>-124.906588</td>\n",
       "      <td>32.557944</td>\n",
       "      <td>-124.900505</td>\n",
       "    </tr>\n",
       "    <tr>\n",
       "      <th>7</th>\n",
       "      <td>32.553167</td>\n",
       "      <td>-124.906475</td>\n",
       "      <td>32.558845</td>\n",
       "      <td>-124.899378</td>\n",
       "    </tr>\n",
       "    <tr>\n",
       "      <th>8</th>\n",
       "      <td>32.553257</td>\n",
       "      <td>-124.906363</td>\n",
       "      <td>32.559746</td>\n",
       "      <td>-124.898252</td>\n",
       "    </tr>\n",
       "    <tr>\n",
       "      <th>9</th>\n",
       "      <td>32.553347</td>\n",
       "      <td>-124.906250</td>\n",
       "      <td>32.560648</td>\n",
       "      <td>-124.897125</td>\n",
       "    </tr>\n",
       "    <tr>\n",
       "      <th>10</th>\n",
       "      <td>32.553438</td>\n",
       "      <td>-124.906137</td>\n",
       "      <td>32.561549</td>\n",
       "      <td>-124.895999</td>\n",
       "    </tr>\n",
       "    <tr>\n",
       "      <th>11</th>\n",
       "      <td>32.553528</td>\n",
       "      <td>-124.906025</td>\n",
       "      <td>32.562450</td>\n",
       "      <td>-124.894872</td>\n",
       "    </tr>\n",
       "    <tr>\n",
       "      <th>12</th>\n",
       "      <td>32.553618</td>\n",
       "      <td>-124.905912</td>\n",
       "      <td>32.563351</td>\n",
       "      <td>-124.893746</td>\n",
       "    </tr>\n",
       "    <tr>\n",
       "      <th>13</th>\n",
       "      <td>32.553708</td>\n",
       "      <td>-124.905800</td>\n",
       "      <td>32.564253</td>\n",
       "      <td>-124.892619</td>\n",
       "    </tr>\n",
       "    <tr>\n",
       "      <th>14</th>\n",
       "      <td>32.553798</td>\n",
       "      <td>-124.905687</td>\n",
       "      <td>32.565154</td>\n",
       "      <td>-124.891493</td>\n",
       "    </tr>\n",
       "    <tr>\n",
       "      <th>15</th>\n",
       "      <td>32.553888</td>\n",
       "      <td>-124.905574</td>\n",
       "      <td>32.566055</td>\n",
       "      <td>-124.890366</td>\n",
       "    </tr>\n",
       "    <tr>\n",
       "      <th>16</th>\n",
       "      <td>32.553978</td>\n",
       "      <td>-124.905462</td>\n",
       "      <td>32.566957</td>\n",
       "      <td>-124.889240</td>\n",
       "    </tr>\n",
       "    <tr>\n",
       "      <th>17</th>\n",
       "      <td>32.554068</td>\n",
       "      <td>-124.905349</td>\n",
       "      <td>32.567858</td>\n",
       "      <td>-124.888113</td>\n",
       "    </tr>\n",
       "    <tr>\n",
       "      <th>18</th>\n",
       "      <td>32.554159</td>\n",
       "      <td>-124.905236</td>\n",
       "      <td>32.568759</td>\n",
       "      <td>-124.886987</td>\n",
       "    </tr>\n",
       "    <tr>\n",
       "      <th>19</th>\n",
       "      <td>32.554249</td>\n",
       "      <td>-124.905124</td>\n",
       "      <td>32.569660</td>\n",
       "      <td>-124.885860</td>\n",
       "    </tr>\n",
       "    <tr>\n",
       "      <th>20</th>\n",
       "      <td>32.554339</td>\n",
       "      <td>-124.905011</td>\n",
       "      <td>32.570562</td>\n",
       "      <td>-124.884734</td>\n",
       "    </tr>\n",
       "    <tr>\n",
       "      <th>21</th>\n",
       "      <td>32.554429</td>\n",
       "      <td>-124.904898</td>\n",
       "      <td>32.571463</td>\n",
       "      <td>-124.883607</td>\n",
       "    </tr>\n",
       "  </tbody>\n",
       "</table>\n",
       "</div>"
      ],
      "text/plain": [
       "           10                    100            \n",
       "          lat         lon        lat         lon\n",
       "0   32.552536 -124.907264  32.552536 -124.907264\n",
       "1   32.552626 -124.907151  32.553438 -124.906137\n",
       "2   32.552717 -124.907039  32.554339 -124.905011\n",
       "3   32.552807 -124.906926  32.555240 -124.903884\n",
       "4   32.552897 -124.906813  32.556141 -124.902758\n",
       "5   32.552987 -124.906701  32.557043 -124.901631\n",
       "6   32.553077 -124.906588  32.557944 -124.900505\n",
       "7   32.553167 -124.906475  32.558845 -124.899378\n",
       "8   32.553257 -124.906363  32.559746 -124.898252\n",
       "9   32.553347 -124.906250  32.560648 -124.897125\n",
       "10  32.553438 -124.906137  32.561549 -124.895999\n",
       "11  32.553528 -124.906025  32.562450 -124.894872\n",
       "12  32.553618 -124.905912  32.563351 -124.893746\n",
       "13  32.553708 -124.905800  32.564253 -124.892619\n",
       "14  32.553798 -124.905687  32.565154 -124.891493\n",
       "15  32.553888 -124.905574  32.566055 -124.890366\n",
       "16  32.553978 -124.905462  32.566957 -124.889240\n",
       "17  32.554068 -124.905349  32.567858 -124.888113\n",
       "18  32.554159 -124.905236  32.568759 -124.886987\n",
       "19  32.554249 -124.905124  32.569660 -124.885860\n",
       "20  32.554339 -124.905011  32.570562 -124.884734\n",
       "21  32.554429 -124.904898  32.571463 -124.883607"
      ]
     },
     "metadata": {},
     "output_type": "display_data"
    }
   ],
   "source": [
    "import pandas as pd\n",
    "coords_df = pd.DataFrame()\n",
    "coords_df.columns = pd.MultiIndex.from_arrays([coords_df.columns,['']*len(coords_df.columns)])\n",
    "coords_df\n",
    "coords_df[('10','lat')] = new_x_10\n",
    "coords_df[('10','lon')] = pd.Series(new_y_10)\n",
    "coords_df[('100','lat')] = pd.Series(unique_lats)\n",
    "coords_df[('100','lon')] = pd.Series(y_100)\n",
    "print('Count')\n",
    "display(coords_df.count())\n",
    "display(coords_df.head(22))"
   ]
  },
  {
   "cell_type": "code",
   "execution_count": 35,
   "id": "d27cf2e8",
   "metadata": {
    "ExecuteTime": {
     "end_time": "2022-07-11T01:23:02.906511Z",
     "start_time": "2022-07-11T01:23:02.899700Z"
    }
   },
   "outputs": [
    {
     "data": {
      "text/plain": [
       "array([  42.33132057, -113.84936794,   42.33132057, -113.84936794])"
      ]
     },
     "execution_count": 35,
     "metadata": {},
     "output_type": "execute_result"
    }
   ],
   "source": [
    "coords_df.max().values"
   ]
  },
  {
   "cell_type": "code",
   "execution_count": null,
   "id": "c33658dd",
   "metadata": {},
   "outputs": [],
   "source": []
  },
  {
   "cell_type": "code",
   "execution_count": 36,
   "id": "11f852df",
   "metadata": {
    "ExecuteTime": {
     "end_time": "2022-06-24T17:01:08.655127Z",
     "start_time": "2022-06-24T17:01:08.591752Z"
    }
   },
   "outputs": [
    {
     "name": "stdout",
     "output_type": "stream",
     "text": [
      "Count\n"
     ]
    },
    {
     "data": {
      "text/plain": [
       "10   lat    108491\n",
       "     lon     98161\n",
       "100  lat     10850\n",
       "     lon      9817\n",
       "dtype: int64"
      ]
     },
     "metadata": {},
     "output_type": "display_data"
    },
    {
     "data": {
      "text/html": [
       "<div>\n",
       "<style scoped>\n",
       "    .dataframe tbody tr th:only-of-type {\n",
       "        vertical-align: middle;\n",
       "    }\n",
       "\n",
       "    .dataframe tbody tr th {\n",
       "        vertical-align: top;\n",
       "    }\n",
       "\n",
       "    .dataframe thead tr th {\n",
       "        text-align: left;\n",
       "    }\n",
       "</style>\n",
       "<table border=\"1\" class=\"dataframe\">\n",
       "  <thead>\n",
       "    <tr>\n",
       "      <th></th>\n",
       "      <th colspan=\"2\" halign=\"left\">10</th>\n",
       "      <th colspan=\"2\" halign=\"left\">100</th>\n",
       "    </tr>\n",
       "    <tr>\n",
       "      <th></th>\n",
       "      <th>lat</th>\n",
       "      <th>lon</th>\n",
       "      <th>lat</th>\n",
       "      <th>lon</th>\n",
       "    </tr>\n",
       "  </thead>\n",
       "  <tbody>\n",
       "    <tr>\n",
       "      <th>0</th>\n",
       "      <td>32.552536</td>\n",
       "      <td>-124.907264</td>\n",
       "      <td>32.552536</td>\n",
       "      <td>-124.907264</td>\n",
       "    </tr>\n",
       "    <tr>\n",
       "      <th>1</th>\n",
       "      <td>32.552626</td>\n",
       "      <td>-124.907151</td>\n",
       "      <td>32.553438</td>\n",
       "      <td>-124.906137</td>\n",
       "    </tr>\n",
       "    <tr>\n",
       "      <th>2</th>\n",
       "      <td>32.552717</td>\n",
       "      <td>-124.907039</td>\n",
       "      <td>32.554339</td>\n",
       "      <td>-124.905011</td>\n",
       "    </tr>\n",
       "    <tr>\n",
       "      <th>3</th>\n",
       "      <td>32.552807</td>\n",
       "      <td>-124.906926</td>\n",
       "      <td>32.555240</td>\n",
       "      <td>-124.903884</td>\n",
       "    </tr>\n",
       "    <tr>\n",
       "      <th>4</th>\n",
       "      <td>32.552897</td>\n",
       "      <td>-124.906813</td>\n",
       "      <td>32.556141</td>\n",
       "      <td>-124.902758</td>\n",
       "    </tr>\n",
       "    <tr>\n",
       "      <th>5</th>\n",
       "      <td>32.552987</td>\n",
       "      <td>-124.906701</td>\n",
       "      <td>32.557043</td>\n",
       "      <td>-124.901631</td>\n",
       "    </tr>\n",
       "    <tr>\n",
       "      <th>6</th>\n",
       "      <td>32.553077</td>\n",
       "      <td>-124.906588</td>\n",
       "      <td>32.557944</td>\n",
       "      <td>-124.900505</td>\n",
       "    </tr>\n",
       "    <tr>\n",
       "      <th>7</th>\n",
       "      <td>32.553167</td>\n",
       "      <td>-124.906475</td>\n",
       "      <td>32.558845</td>\n",
       "      <td>-124.899378</td>\n",
       "    </tr>\n",
       "    <tr>\n",
       "      <th>8</th>\n",
       "      <td>32.553257</td>\n",
       "      <td>-124.906363</td>\n",
       "      <td>32.559746</td>\n",
       "      <td>-124.898252</td>\n",
       "    </tr>\n",
       "    <tr>\n",
       "      <th>9</th>\n",
       "      <td>32.553347</td>\n",
       "      <td>-124.906250</td>\n",
       "      <td>32.560648</td>\n",
       "      <td>-124.897125</td>\n",
       "    </tr>\n",
       "    <tr>\n",
       "      <th>10</th>\n",
       "      <td>32.553438</td>\n",
       "      <td>-124.906137</td>\n",
       "      <td>32.561549</td>\n",
       "      <td>-124.895999</td>\n",
       "    </tr>\n",
       "    <tr>\n",
       "      <th>11</th>\n",
       "      <td>32.553528</td>\n",
       "      <td>-124.906025</td>\n",
       "      <td>32.562450</td>\n",
       "      <td>-124.894872</td>\n",
       "    </tr>\n",
       "    <tr>\n",
       "      <th>12</th>\n",
       "      <td>32.553618</td>\n",
       "      <td>-124.905912</td>\n",
       "      <td>32.563351</td>\n",
       "      <td>-124.893746</td>\n",
       "    </tr>\n",
       "    <tr>\n",
       "      <th>13</th>\n",
       "      <td>32.553708</td>\n",
       "      <td>-124.905800</td>\n",
       "      <td>32.564253</td>\n",
       "      <td>-124.892619</td>\n",
       "    </tr>\n",
       "    <tr>\n",
       "      <th>14</th>\n",
       "      <td>32.553798</td>\n",
       "      <td>-124.905687</td>\n",
       "      <td>32.565154</td>\n",
       "      <td>-124.891493</td>\n",
       "    </tr>\n",
       "    <tr>\n",
       "      <th>15</th>\n",
       "      <td>32.553888</td>\n",
       "      <td>-124.905574</td>\n",
       "      <td>32.566055</td>\n",
       "      <td>-124.890366</td>\n",
       "    </tr>\n",
       "    <tr>\n",
       "      <th>16</th>\n",
       "      <td>32.553978</td>\n",
       "      <td>-124.905462</td>\n",
       "      <td>32.566957</td>\n",
       "      <td>-124.889240</td>\n",
       "    </tr>\n",
       "    <tr>\n",
       "      <th>17</th>\n",
       "      <td>32.554068</td>\n",
       "      <td>-124.905349</td>\n",
       "      <td>32.567858</td>\n",
       "      <td>-124.888113</td>\n",
       "    </tr>\n",
       "    <tr>\n",
       "      <th>18</th>\n",
       "      <td>32.554159</td>\n",
       "      <td>-124.905236</td>\n",
       "      <td>32.568759</td>\n",
       "      <td>-124.886987</td>\n",
       "    </tr>\n",
       "    <tr>\n",
       "      <th>19</th>\n",
       "      <td>32.554249</td>\n",
       "      <td>-124.905124</td>\n",
       "      <td>32.569660</td>\n",
       "      <td>-124.885860</td>\n",
       "    </tr>\n",
       "    <tr>\n",
       "      <th>20</th>\n",
       "      <td>32.554339</td>\n",
       "      <td>-124.905011</td>\n",
       "      <td>32.570562</td>\n",
       "      <td>-124.884734</td>\n",
       "    </tr>\n",
       "    <tr>\n",
       "      <th>21</th>\n",
       "      <td>32.554429</td>\n",
       "      <td>-124.904898</td>\n",
       "      <td>32.571463</td>\n",
       "      <td>-124.883607</td>\n",
       "    </tr>\n",
       "  </tbody>\n",
       "</table>\n",
       "</div>"
      ],
      "text/plain": [
       "           10                    100            \n",
       "          lat         lon        lat         lon\n",
       "0   32.552536 -124.907264  32.552536 -124.907264\n",
       "1   32.552626 -124.907151  32.553438 -124.906137\n",
       "2   32.552717 -124.907039  32.554339 -124.905011\n",
       "3   32.552807 -124.906926  32.555240 -124.903884\n",
       "4   32.552897 -124.906813  32.556141 -124.902758\n",
       "5   32.552987 -124.906701  32.557043 -124.901631\n",
       "6   32.553077 -124.906588  32.557944 -124.900505\n",
       "7   32.553167 -124.906475  32.558845 -124.899378\n",
       "8   32.553257 -124.906363  32.559746 -124.898252\n",
       "9   32.553347 -124.906250  32.560648 -124.897125\n",
       "10  32.553438 -124.906137  32.561549 -124.895999\n",
       "11  32.553528 -124.906025  32.562450 -124.894872\n",
       "12  32.553618 -124.905912  32.563351 -124.893746\n",
       "13  32.553708 -124.905800  32.564253 -124.892619\n",
       "14  32.553798 -124.905687  32.565154 -124.891493\n",
       "15  32.553888 -124.905574  32.566055 -124.890366\n",
       "16  32.553978 -124.905462  32.566957 -124.889240\n",
       "17  32.554068 -124.905349  32.567858 -124.888113\n",
       "18  32.554159 -124.905236  32.568759 -124.886987\n",
       "19  32.554249 -124.905124  32.569660 -124.885860\n",
       "20  32.554339 -124.905011  32.570562 -124.884734\n",
       "21  32.554429 -124.904898  32.571463 -124.883607"
      ]
     },
     "metadata": {},
     "output_type": "display_data"
    }
   ],
   "source": [
    "import pandas as pd\n",
    "coords_df = pd.DataFrame()\n",
    "coords_df.columns = pd.MultiIndex.from_arrays([coords_df.columns,['']*len(coords_df.columns)])\n",
    "coords_df\n",
    "coords_df[('10','lat')] = new_x_10\n",
    "coords_df[('10','lon')] = pd.Series(new_y_10)\n",
    "coords_df[('100','lat')] = pd.Series(unique_lats)\n",
    "coords_df[('100','lon')] = pd.Series(y_100)\n",
    "print('Count')\n",
    "display(coords_df.count())\n",
    "display(coords_df.head(22))"
   ]
  },
  {
   "cell_type": "code",
   "execution_count": 37,
   "id": "d5043493",
   "metadata": {
    "ExecuteTime": {
     "end_time": "2022-06-24T21:18:26.584898Z",
     "start_time": "2022-06-24T21:18:26.230948Z"
    }
   },
   "outputs": [],
   "source": [
    "# coords_df.to_csv('./final_california_vectors_1.csv')"
   ]
  },
  {
   "cell_type": "code",
   "execution_count": 38,
   "id": "c8cfbb80",
   "metadata": {
    "ExecuteTime": {
     "end_time": "2022-06-24T21:17:58.171897Z",
     "start_time": "2022-06-24T21:17:58.158552Z"
    }
   },
   "outputs": [
    {
     "name": "stdout",
     "output_type": "stream",
     "text": [
      "10850 10850\n",
      "9817 9817\n"
     ]
    }
   ],
   "source": [
    "print(len(set(new_x_10[0::10]) & set(unique_lats)), len(set(unique_lats)))\n",
    "print(len(set(new_y_10[0::10]) & set(y_100)), len(set(y_100)))"
   ]
  },
  {
   "cell_type": "code",
   "execution_count": 39,
   "id": "aaa98731",
   "metadata": {
    "ExecuteTime": {
     "end_time": "2022-06-24T21:18:01.512867Z",
     "start_time": "2022-06-24T21:18:01.509203Z"
    }
   },
   "outputs": [
    {
     "data": {
      "text/plain": [
       "[32.55253626,\n",
       " 32.55343753,\n",
       " 32.55433879,\n",
       " 32.55524006,\n",
       " 32.55614132,\n",
       " 32.55704259,\n",
       " 32.55794385,\n",
       " 32.55884512,\n",
       " 32.55974638,\n",
       " 32.56064765]"
      ]
     },
     "execution_count": 39,
     "metadata": {},
     "output_type": "execute_result"
    }
   ],
   "source": [
    "new_x_10[0:100:10]"
   ]
  },
  {
   "cell_type": "code",
   "execution_count": 40,
   "id": "a78aa027",
   "metadata": {
    "ExecuteTime": {
     "end_time": "2022-06-24T21:18:06.101752Z",
     "start_time": "2022-06-24T21:18:06.098380Z"
    }
   },
   "outputs": [
    {
     "data": {
      "text/plain": [
       "[32.55253626,\n",
       " 32.55343753,\n",
       " 32.55433879,\n",
       " 32.55524006,\n",
       " 32.55614132,\n",
       " 32.55704259,\n",
       " 32.55794385,\n",
       " 32.55884512,\n",
       " 32.55974638,\n",
       " 32.56064765]"
      ]
     },
     "execution_count": 40,
     "metadata": {},
     "output_type": "execute_result"
    }
   ],
   "source": [
    "unique_lats[:10]"
   ]
  },
  {
   "cell_type": "code",
   "execution_count": 41,
   "id": "61f6c835",
   "metadata": {
    "ExecuteTime": {
     "end_time": "2022-06-17T21:03:04.227554Z",
     "start_time": "2022-06-17T21:03:04.222338Z"
    }
   },
   "outputs": [
    {
     "data": {
      "text/plain": [
       "145.54777695414225"
      ]
     },
     "execution_count": 41,
     "metadata": {},
     "output_type": "execute_result"
    }
   ],
   "source": [
    "geopy.distance.distance(coords_df['100'].iloc[0].values, coords_df['100'].iloc[1].values).m"
   ]
  },
  {
   "cell_type": "code",
   "execution_count": 42,
   "id": "2e0855a8",
   "metadata": {
    "ExecuteTime": {
     "end_time": "2022-06-17T21:02:49.061851Z",
     "start_time": "2022-06-17T21:02:49.058003Z"
    }
   },
   "outputs": [
    {
     "data": {
      "text/plain": [
       "array([  32.55253626, -124.907264  ])"
      ]
     },
     "execution_count": 42,
     "metadata": {},
     "output_type": "execute_result"
    }
   ],
   "source": [
    "coords_df['100'].iloc[0].values"
   ]
  },
  {
   "cell_type": "code",
   "execution_count": 43,
   "id": "3f71ef5f",
   "metadata": {
    "ExecuteTime": {
     "end_time": "2022-06-17T21:11:11.674711Z",
     "start_time": "2022-06-17T21:11:11.670331Z"
    }
   },
   "outputs": [
    {
     "data": {
      "text/plain": [
       "136.5543998286003"
      ]
     },
     "execution_count": 43,
     "metadata": {},
     "output_type": "execute_result"
    }
   ],
   "source": [
    "geopy.distance.distance((unique_lats[-1], y_100[-1]),(unique_lats[-2], y_100[-2])).m"
   ]
  },
  {
   "cell_type": "code",
   "execution_count": 44,
   "id": "0edf2971",
   "metadata": {
    "ExecuteTime": {
     "end_time": "2022-06-17T21:11:56.969738Z",
     "start_time": "2022-06-17T21:11:56.965662Z"
    }
   },
   "outputs": [
    {
     "data": {
      "text/plain": [
       "((42.33132057, -113.84936794), (42.33041913, -113.85049446))"
      ]
     },
     "execution_count": 44,
     "metadata": {},
     "output_type": "execute_result"
    }
   ],
   "source": [
    "(unique_lats[-1], y_100[-1]),(unique_lats[-2], y_100[-2])"
   ]
  },
  {
   "cell_type": "code",
   "execution_count": 45,
   "id": "bd703b3c",
   "metadata": {
    "ExecuteTime": {
     "end_time": "2022-06-17T21:14:39.587000Z",
     "start_time": "2022-06-17T21:14:39.582707Z"
    }
   },
   "outputs": [
    {
     "name": "stdout",
     "output_type": "stream",
     "text": [
      "[  32.55253626 -124.907264  ] [  32.55343753 -124.90613748]\n"
     ]
    }
   ],
   "source": [
    "print(coords_df['100'].iloc[0].values, coords_df['100'].iloc[1].values)"
   ]
  },
  {
   "cell_type": "code",
   "execution_count": null,
   "id": "a8044fcd",
   "metadata": {},
   "outputs": [],
   "source": []
  }
 ],
 "metadata": {
  "kernelspec": {
   "display_name": "Python 3 (ipykernel)",
   "language": "python",
   "name": "python3"
  },
  "language_info": {
   "codemirror_mode": {
    "name": "ipython",
    "version": 3
   },
   "file_extension": ".py",
   "mimetype": "text/x-python",
   "name": "python",
   "nbconvert_exporter": "python",
   "pygments_lexer": "ipython3",
   "version": "3.9.7"
  }
 },
 "nbformat": 4,
 "nbformat_minor": 5
}
